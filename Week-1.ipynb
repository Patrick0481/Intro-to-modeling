{
 "cells": [
  {
   "cell_type": "markdown",
   "id": "6b1c5886",
   "metadata": {},
   "source": [
    "Week 1 - Introduction to modeling"
   ]
  },
  {
   "cell_type": "code",
   "execution_count": 8,
   "id": "c7fdc906",
   "metadata": {},
   "outputs": [],
   "source": [
    "import pandas as pd\n",
    "\n",
    "url = 'https://raw.githubusercontent.com/Patrick0481/Intro-to-modeling/refs/heads/main/StudentsPerformance.csv?token=GHSAT0AAAAAADKNWND6L3YFFQQCSVFIRRQK2F73TBQ' \n",
    "StudentPerformance = pd.read_csv(url)\n",
    "#StudentPerformance = pd.read_csv('StudentPerformance.csv')"
   ]
  }
 ],
 "metadata": {
  "kernelspec": {
   "display_name": "Python 3",
   "language": "python",
   "name": "python3"
  },
  "language_info": {
   "codemirror_mode": {
    "name": "ipython",
    "version": 3
   },
   "file_extension": ".py",
   "mimetype": "text/x-python",
   "name": "python",
   "nbconvert_exporter": "python",
   "pygments_lexer": "ipython3",
   "version": "3.13.7"
  }
 },
 "nbformat": 4,
 "nbformat_minor": 5
}
