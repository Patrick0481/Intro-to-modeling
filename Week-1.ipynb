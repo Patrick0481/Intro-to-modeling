{
 "cells": [
  {
   "cell_type": "markdown",
   "id": "c73b2311",
   "metadata": {},
   "source": [
    "Week 1 of introduction to modeling "
   ]
  },
  {
   "cell_type": "code",
   "execution_count": 5,
   "id": "7d79789a",
   "metadata": {},
   "outputs": [],
   "source": [
    "#%pip install pandas\n",
    "import pandas as pd\n",
    "\n",
    "url = 'https://raw.githubusercontent.com/Patrick0481/Intro-to-modeling/refs/heads/main/StudentsPerformance.csv?token=GHSAT0AAAAAADKOZNJ5ZVDQGMC4F4SU2TQ22GADW6A' \n",
    "StudentPerformance = pd.read_csv(url)\n"
   ]
  },
  {
   "cell_type": "code",
   "execution_count": 6,
   "id": "928300f8",
   "metadata": {},
   "outputs": [
    {
     "data": {
      "text/html": [
       "<div>\n",
       "<style scoped>\n",
       "    .dataframe tbody tr th:only-of-type {\n",
       "        vertical-align: middle;\n",
       "    }\n",
       "\n",
       "    .dataframe tbody tr th {\n",
       "        vertical-align: top;\n",
       "    }\n",
       "\n",
       "    .dataframe thead th {\n",
       "        text-align: right;\n",
       "    }\n",
       "</style>\n",
       "<table border=\"1\" class=\"dataframe\">\n",
       "  <thead>\n",
       "    <tr style=\"text-align: right;\">\n",
       "      <th></th>\n",
       "      <th>gender</th>\n",
       "      <th>race_ethnicity</th>\n",
       "      <th>parental_level_of_education</th>\n",
       "      <th>lunch</th>\n",
       "      <th>test_preparation_course</th>\n",
       "      <th>math_score</th>\n",
       "      <th>reading_score</th>\n",
       "      <th>writing_score</th>\n",
       "    </tr>\n",
       "  </thead>\n",
       "  <tbody>\n",
       "    <tr>\n",
       "      <th>0</th>\n",
       "      <td>female</td>\n",
       "      <td>group B</td>\n",
       "      <td>bachelor's degree</td>\n",
       "      <td>standard</td>\n",
       "      <td>none</td>\n",
       "      <td>72</td>\n",
       "      <td>72</td>\n",
       "      <td>74</td>\n",
       "    </tr>\n",
       "    <tr>\n",
       "      <th>1</th>\n",
       "      <td>female</td>\n",
       "      <td>group C</td>\n",
       "      <td>some college</td>\n",
       "      <td>standard</td>\n",
       "      <td>completed</td>\n",
       "      <td>69</td>\n",
       "      <td>90</td>\n",
       "      <td>88</td>\n",
       "    </tr>\n",
       "    <tr>\n",
       "      <th>2</th>\n",
       "      <td>female</td>\n",
       "      <td>group B</td>\n",
       "      <td>master's degree</td>\n",
       "      <td>standard</td>\n",
       "      <td>none</td>\n",
       "      <td>90</td>\n",
       "      <td>95</td>\n",
       "      <td>93</td>\n",
       "    </tr>\n",
       "    <tr>\n",
       "      <th>3</th>\n",
       "      <td>male</td>\n",
       "      <td>group A</td>\n",
       "      <td>associate's degree</td>\n",
       "      <td>free/reduced</td>\n",
       "      <td>none</td>\n",
       "      <td>47</td>\n",
       "      <td>57</td>\n",
       "      <td>44</td>\n",
       "    </tr>\n",
       "    <tr>\n",
       "      <th>4</th>\n",
       "      <td>male</td>\n",
       "      <td>group C</td>\n",
       "      <td>some college</td>\n",
       "      <td>standard</td>\n",
       "      <td>none</td>\n",
       "      <td>76</td>\n",
       "      <td>78</td>\n",
       "      <td>75</td>\n",
       "    </tr>\n",
       "  </tbody>\n",
       "</table>\n",
       "</div>"
      ],
      "text/plain": [
       "   gender race_ethnicity parental_level_of_education         lunch  \\\n",
       "0  female        group B           bachelor's degree      standard   \n",
       "1  female        group C                some college      standard   \n",
       "2  female        group B             master's degree      standard   \n",
       "3    male        group A          associate's degree  free/reduced   \n",
       "4    male        group C                some college      standard   \n",
       "\n",
       "  test_preparation_course  math_score  reading_score  writing_score  \n",
       "0                    none          72             72             74  \n",
       "1               completed          69             90             88  \n",
       "2                    none          90             95             93  \n",
       "3                    none          47             57             44  \n",
       "4                    none          76             78             75  "
      ]
     },
     "execution_count": 5,
     "metadata": {},
     "output_type": "execute_result"
    }
   ],
   "source": [
    "#check that the importing went correctly\n",
    "StudentPerformance.head()"
   ]
  },
  {
   "cell_type": "code",
   "execution_count": 6,
   "id": "b2e1502d",
   "metadata": {},
   "outputs": [
    {
     "data": {
      "text/plain": [
       "<matplotlib.collections.PathCollection at 0x2058600d010>"
      ]
     },
     "execution_count": 6,
     "metadata": {},
     "output_type": "execute_result"
    },
    {
     "data": {
      "image/png": "[encoded data removed]",
      "text/plain": [
       "<Figure size 640x480 with 1 Axes>"
      ]
     },
     "metadata": {},
     "output_type": "display_data"
    }
   ],
   "source": [
    "#extract the relevant columns and By using [ ] you can select specific columns in the StudentsPerformance file\n",
    "\n",
    "#%pip install matplotlib\n",
    "import matplotlib.pyplot as plt\n",
    "\n",
    "reading_scores = StudentPerformance['reading_score']\n",
    "math_scores = StudentPerformance['math_score']\n",
    "\n",
    "#creating a scatter plot\n",
    "plt.scatter(reading_scores, math_scores)"
   ]
  },
  {
   "cell_type": "code",
   "execution_count": 7,
   "id": "b654b431",
   "metadata": {},
   "outputs": [
    {
     "data": {
      "text/plain": [
       "PearsonRResult(statistic=np.float64(0.8175796636720541), pvalue=np.float64(1.7877531099062542e-241))"
      ]
     },
     "execution_count": 7,
     "metadata": {},
     "output_type": "execute_result"
    }
   ],
   "source": [
    "#%pip install scipy\n",
    "import scipy.stats as stats\n",
    "\n",
    "reading_scores = StudentPerformance['reading_score']\n",
    "math_scores = StudentPerformance['math_score']\n",
    "\n",
    "stats.pearsonr(reading_scores, math_scores)"
   ]
  },
  {
   "cell_type": "code",
   "execution_count": 8,
   "id": "9db9e6b1",
   "metadata": {},
   "outputs": [
    {
     "data": {
      "text/plain": [
       "PearsonRResult(statistic=np.float64(0.954598077146248), pvalue=np.float64(0.0))"
      ]
     },
     "execution_count": 8,
     "metadata": {},
     "output_type": "execute_result"
    },
    {
     "data": {
      "image/png": "[encoded data removed]",
      "text/plain": [
       "<Figure size 640x480 with 1 Axes>"
      ]
     },
     "metadata": {},
     "output_type": "display_data"
    }
   ],
   "source": [
    "#In-class exercise: correlation bewteen reading scores and writing scores.\n",
    "import matplotlib.pyplot as plt\n",
    "import scipy.stats as stats\n",
    "\n",
    "writing_scores = StudentPerformance['writing_score']\n",
    "reading_scores = StudentPerformance['reading_score']\n",
    "\n",
    "plt.scatter(reading_scores, writing_scores)\n",
    "stats.pearsonr(writing_scores, reading_scores)"
   ]
  },
  {
   "cell_type": "code",
   "execution_count": null,
   "id": "4dfeb140",
   "metadata": {},
   "outputs": [],
   "source": [
    "#Correlation matrix\n",
    "\n",
    "#%pip install seaborn\n",
    "\n",
    "data = StudentPerformance[['reading_score', 'math_score', 'writing_score']]\n",
    "matrix = data.corr()\n",
    "print (matrix)\n",
    "\n",
    "import seaborn as sn\n",
    "sn.heatmap(matrix, annot=True)\n",
    "\n",
    "sn.pairplot(StudentPerformance)"
   ]
  },
  {
   "cell_type": "code",
   "execution_count": null,
   "id": "75b201fe",
   "metadata": {},
   "outputs": [],
   "source": [
    "#Regression in python\n",
    "\n",
    "#%pip install statsmodels\n",
    "url = 'https://raw.githubusercontent.com/Patrick0481/Intro-to-modeling/refs/heads/main/Age_Income.csv?token=GHSAT0AAAAAADKOZNJ4HZTJXLVDE2BMJZCI2GAESYA'\n",
    "Age_Income = pd.read_csv(url)\n",
    "\n",
    "import statsmodels.formula.api as sm\n",
    "\n",
    "model1 = sm.ols('Income ~ Age', data=Age_Income).fit()\n",
    "print(model1.summary())"
   ]
  },
  {
   "cell_type": "markdown",
   "id": "3221ed49",
   "metadata": {},
   "source": [
    "Dependent = effect = y-as ^ \n",
    "Independent = cause = x-as >"
   ]
  },
  {
   "cell_type": "code",
   "execution_count": 18,
   "id": "4cc2ef41",
   "metadata": {},
   "outputs": [
    {
     "name": "stdout",
     "output_type": "stream",
     "text": [
      "                            OLS Regression Results                            \n",
      "==============================================================================\n",
      "Dep. Variable:                 Income   R-squared:                       0.840\n",
      "Model:                            OLS   Adj. R-squared:                  0.820\n",
      "Method:                 Least Squares   F-statistic:                     42.14\n",
      "Date:                Tue, 09 Sep 2025   Prob (F-statistic):           0.000190\n",
      "Time:                        17:07:50   Log-Likelihood:                -97.752\n",
      "No. Observations:                  10   AIC:                             199.5\n",
      "Df Residuals:                       8   BIC:                             200.1\n",
      "Df Model:                           1                                         \n",
      "Covariance Type:            nonrobust                                         \n",
      "==============================================================================\n",
      "                 coef    std err          t      P>|t|      [0.025      0.975]\n",
      "------------------------------------------------------------------------------\n",
      "Intercept   1.658e+04   2838.090      5.842      0.000       1e+04    2.31e+04\n",
      "Experience  5386.0182    829.723      6.491      0.000    3472.673    7299.363\n",
      "==============================================================================\n",
      "Omnibus:                        5.351   Durbin-Watson:                   1.150\n",
      "Prob(Omnibus):                  0.069   Jarque-Bera (JB):                1.725\n",
      "Skew:                          -0.906   Prob(JB):                        0.422\n",
      "Kurtosis:                       3.927   Cond. No.                         6.86\n",
      "==============================================================================\n",
      "\n",
      "Notes:\n",
      "[1] Standard Errors assume that the covariance matrix of the errors is correctly specified.\n"
     ]
    }
   ],
   "source": [
    "#Exercise 2:\n",
    "url = 'https://raw.githubusercontent.com/Patrick0481/Intro-to-modeling/refs/heads/main/Age_Income.csv?token=GHSAT0AAAAAADKOZNJ5N4UXGIM2P23HWP3K2GAIL2A'\n",
    "Age_Income = pd.read_csv(url)\n",
    "\n",
    "import statsmodels.formula.api as sm\n",
    "\n",
    "model1 = sm.ols('Income ~ Experience', data=Age_Income).fit()\n",
    "print(model1.summary())"
   ]
  }
 ],
 "metadata": {
  "kernelspec": {
   "display_name": "Python 3",
   "language": "python",
   "name": "python3"
  },
  "language_info": {
   "codemirror_mode": {
    "name": "ipython",
    "version": 3
   },
   "file_extension": ".py",
   "mimetype": "text/x-python",
   "name": "python",
   "nbconvert_exporter": "python",
   "pygments_lexer": "ipython3",
   "version": "3.13.7"
  }
 },
 "nbformat": 4,
 "nbformat_minor": 5
}
