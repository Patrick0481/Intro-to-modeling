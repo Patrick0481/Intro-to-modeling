{
 "cells": [
  {
   "cell_type": "markdown",
   "id": "f2a9eaed",
   "metadata": {},
   "source": [
    "Week 2"
   ]
  },
  {
   "cell_type": "markdown",
   "id": "f0e802a1",
   "metadata": {},
   "source": [
    "Stork data set\n"
   ]
  },
  {
   "cell_type": "code",
   "execution_count": 4,
   "id": "6949ea6b",
   "metadata": {},
   "outputs": [
    {
     "name": "stdout",
     "output_type": "stream",
     "text": [
      "                            OLS Regression Results                            \n",
      "==============================================================================\n",
      "Dep. Variable:              BirthRate   R-squared:                       0.862\n",
      "Model:                            OLS   Adj. R-squared:                  0.842\n",
      "Method:                 Least Squares   F-statistic:                     43.77\n",
      "Date:                Tue, 16 Sep 2025   Prob (F-statistic):           9.48e-07\n",
      "Time:                        09:46:54   Log-Likelihood:                -109.04\n",
      "No. Observations:                  17   AIC:                             224.1\n",
      "Df Residuals:                      14   BIC:                             226.6\n",
      "Df Model:                           2                                         \n",
      "Covariance Type:            nonrobust                                         \n",
      "==============================================================================\n",
      "                 coef    std err          t      P>|t|      [0.025      0.975]\n",
      "------------------------------------------------------------------------------\n",
      "Intercept     -7.4996     56.723     -0.132      0.897    -129.158     114.159\n",
      "StorkPairs     0.0060      0.006      1.061      0.307      -0.006       0.018\n",
      "LandArea       0.0016      0.000      6.962      0.000       0.001       0.002\n",
      "==============================================================================\n",
      "Omnibus:                        5.013   Durbin-Watson:                   2.377\n",
      "Prob(Omnibus):                  0.082   Jarque-Bera (JB):                2.772\n",
      "Skew:                          -0.402   Prob(JB):                        0.250\n",
      "Kurtosis:                       4.807   Cond. No.                     4.40e+05\n",
      "==============================================================================\n",
      "\n",
      "Notes:\n",
      "[1] Standard Errors assume that the covariance matrix of the errors is correctly specified.\n",
      "[2] The condition number is large, 4.4e+05. This might indicate that there are\n",
      "strong multicollinearity or other numerical problems.\n"
     ]
    }
   ],
   "source": [
    "import pandas as pd\n",
    "url = \"https://raw.githubusercontent.com/Patrick0481/Intro-to-modeling/refs/heads/main/StorkData%20-%20Copy.csv?token=GHSAT0AAAAAADKNWND7HCASUBWHBS2IXYJ62GJCUEA\"\n",
    "StorkData = pd.read_csv(url)\n",
    "\n",
    "import statsmodels.formula.api as sm \n",
    "\n",
    "#model1 = sm.ols('BirthRate ~ StorkPairs', data=StorkData).fit()\n",
    "#print(model1.summary())\n",
    "\n",
    "model2 = sm.ols('BirthRate ~ StorkPairs + LandArea', data=StorkData).fit()\n",
    "print(model2.summary())"
   ]
  }
 ],
 "metadata": {
  "kernelspec": {
   "display_name": "Python 3",
   "language": "python",
   "name": "python3"
  },
  "language_info": {
   "codemirror_mode": {
    "name": "ipython",
    "version": 3
   },
   "file_extension": ".py",
   "mimetype": "text/x-python",
   "name": "python",
   "nbconvert_exporter": "python",
   "pygments_lexer": "ipython3",
   "version": "3.13.7"
  }
 },
 "nbformat": 4,
 "nbformat_minor": 5
}
