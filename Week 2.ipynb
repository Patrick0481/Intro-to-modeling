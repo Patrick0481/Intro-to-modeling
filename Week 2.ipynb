{
 "cells": [
  {
   "cell_type": "markdown",
   "id": "f2a9eaed",
   "metadata": {},
   "source": [
    "Week 2"
   ]
  },
  {
   "cell_type": "markdown",
   "id": "f0e802a1",
   "metadata": {},
   "source": [
    "Stork data set\n"
   ]
  },
  {
   "cell_type": "code",
   "execution_count": null,
   "id": "6949ea6b",
   "metadata": {},
   "outputs": [],
   "source": [
    "import pandas as pd\n",
    "url = \"https://raw.githubusercontent.com/Patrick0481/Intro-to-modeling/refs/heads/main/StorkData%20-%20Copy.csv?token=GHSAT0AAAAAADKNWND7HCASUBWHBS2IXYJ62GJCUEA\"\n",
    "StorkData = pd.read_csv(url)\n",
    "\n",
    "import statsmodels.formula.api as sm \n",
    "\n",
    "#model1 = sm.ols('BirthRate ~ StorkPairs', data=StorkData).fit()\n",
    "#print(model1.summary())\n",
    "\n",
    "model2 = sm.ols('BirthRate ~ StorkPairs + LandArea', data=StorkData).fit()\n",
    "print(model2.summary())"
   ]
  },
  {
   "cell_type": "markdown",
   "id": "c2382d87",
   "metadata": {},
   "source": [
    "Exercise 1 "
   ]
  },
  {
   "cell_type": "code",
   "execution_count": 14,
   "id": "88b3547f",
   "metadata": {},
   "outputs": [
    {
     "name": "stdout",
     "output_type": "stream",
     "text": [
      "                            OLS Regression Results                            \n",
      "==============================================================================\n",
      "Dep. Variable:                  Sales   R-squared:                       0.162\n",
      "Model:                            OLS   Adj. R-squared:                  0.159\n",
      "Method:                 Least Squares   F-statistic:                     58.15\n",
      "Date:                Tue, 16 Sep 2025   Prob (F-statistic):           6.63e-45\n",
      "Time:                        10:24:51   Log-Likelihood:                -10027.\n",
      "No. Observations:                1207   AIC:                         2.006e+04\n",
      "Df Residuals:                    1202   BIC:                         2.009e+04\n",
      "Df Model:                           4                                         \n",
      "Covariance Type:            nonrobust                                         \n",
      "================================================================================================\n",
      "                                   coef    std err          t      P>|t|      [0.025      0.975]\n",
      "------------------------------------------------------------------------------------------------\n",
      "Intercept                     1.157e+05   5.51e+04      2.101      0.036    7634.158    2.24e+05\n",
      "Review_Score                    17.9424      2.305      7.783      0.000      13.419      22.466\n",
      "Used_Price                      46.4553      5.796      8.015      0.000      35.084      57.827\n",
      "Release_Year                   -58.4524     27.454     -2.129      0.033    -112.316      -4.589\n",
      "Length_All_PlayStyles_Polled     1.1107      0.193      5.759      0.000       0.732       1.489\n",
      "==============================================================================\n",
      "Omnibus:                     1570.332   Durbin-Watson:                   0.838\n",
      "Prob(Omnibus):                  0.000   Jarque-Bera (JB):           275112.124\n",
      "Skew:                           6.928   Prob(JB):                         0.00\n",
      "Kurtosis:                      75.652   Cond. No.                     3.91e+06\n",
      "==============================================================================\n",
      "\n",
      "Notes:\n",
      "[1] Standard Errors assume that the covariance matrix of the errors is correctly specified.\n",
      "[2] The condition number is large, 3.91e+06. This might indicate that there are\n",
      "strong multicollinearity or other numerical problems.\n"
     ]
    }
   ],
   "source": [
    "#%pip install openpyxl\n",
    "import pandas as pd\n",
    "\n",
    "url = 'https://raw.githubusercontent.com/Patrick0481/Intro-to-modeling/main/video_games%20-%20Copy%20(1).xlsx'\n",
    "VideoGameData = pd.read_excel(url)\n",
    "\n",
    "import statsmodels.formula.api as sm\n",
    "\n",
    "#model3 = sm.ols('Sales ~ Review_Score', data=VideoGameData).fit()\n",
    "#print(model3.summary())\n",
    "\n",
    "#model4 = sm.ols('Sales ~ Used_Price', data=VideoGameData).fit()\n",
    "#print(model4.summary())\n",
    "\n",
    "#model5 = sm.ols('Sales ~ Release_Year', data=VideoGameData).fit()\n",
    "#print(model5.summary())\n",
    "\n",
    "#model6 = sm.ols('Sales ~ Length_All_PlayStyles_Polled', data=VideoGameData).fit()\n",
    "#print(model6.summary())\n",
    "\n",
    "model7 = sm.ols('Sales ~ Review_Score + Used_Price + Release_Year + Length_All_PlayStyles_Polled', data=VideoGameData).fit()\n",
    "print(model7.summary())\n",
    "\n"
   ]
  }
 ],
 "metadata": {
  "kernelspec": {
   "display_name": "Python 3",
   "language": "python",
   "name": "python3"
  },
  "language_info": {
   "codemirror_mode": {
    "name": "ipython",
    "version": 3
   },
   "file_extension": ".py",
   "mimetype": "text/x-python",
   "name": "python",
   "nbconvert_exporter": "python",
   "pygments_lexer": "ipython3",
   "version": "3.13.7"
  }
 },
 "nbformat": 4,
 "nbformat_minor": 5
}
