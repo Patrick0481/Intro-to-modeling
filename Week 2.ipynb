{
 "cells": [
  {
   "cell_type": "markdown",
   "id": "f2a9eaed",
   "metadata": {},
   "source": [
    "Week 2"
   ]
  },
  {
   "cell_type": "markdown",
   "id": "f0e802a1",
   "metadata": {},
   "source": [
    "Stork data set\n"
   ]
  },
  {
   "cell_type": "code",
   "execution_count": 2,
   "id": "6949ea6b",
   "metadata": {},
   "outputs": [
    {
     "name": "stdout",
     "output_type": "stream",
     "text": [
      "                            OLS Regression Results                            \n",
      "==============================================================================\n",
      "Dep. Variable:              BirthRate   R-squared:                       0.862\n",
      "Model:                            OLS   Adj. R-squared:                  0.842\n",
      "Method:                 Least Squares   F-statistic:                     43.77\n",
      "Date:                Thu, 23 Oct 2025   Prob (F-statistic):           9.48e-07\n",
      "Time:                        11:29:43   Log-Likelihood:                -109.04\n",
      "No. Observations:                  17   AIC:                             224.1\n",
      "Df Residuals:                      14   BIC:                             226.6\n",
      "Df Model:                           2                                         \n",
      "Covariance Type:            nonrobust                                         \n",
      "==============================================================================\n",
      "                 coef    std err          t      P>|t|      [0.025      0.975]\n",
      "------------------------------------------------------------------------------\n",
      "Intercept     -7.4996     56.723     -0.132      0.897    -129.158     114.159\n",
      "StorkPairs     0.0060      0.006      1.061      0.307      -0.006       0.018\n",
      "LandArea       0.0016      0.000      6.962      0.000       0.001       0.002\n",
      "==============================================================================\n",
      "Omnibus:                        5.013   Durbin-Watson:                   2.377\n",
      "Prob(Omnibus):                  0.082   Jarque-Bera (JB):                2.772\n",
      "Skew:                          -0.402   Prob(JB):                        0.250\n",
      "Kurtosis:                       4.807   Cond. No.                     4.40e+05\n",
      "==============================================================================\n",
      "\n",
      "Notes:\n",
      "[1] Standard Errors assume that the covariance matrix of the errors is correctly specified.\n",
      "[2] The condition number is large, 4.4e+05. This might indicate that there are\n",
      "strong multicollinearity or other numerical problems.\n"
     ]
    }
   ],
   "source": [
    "import pandas as pd\n",
    "url = \"https://raw.githubusercontent.com/Patrick0481/Intro-to-modeling/refs/heads/main/StorkData%20-%20Copy.csv\"\n",
    "StorkData = pd.read_csv(url)\n",
    "\n",
    "import statsmodels.formula.api as sm \n",
    "\n",
    "#model1 = sm.ols('BirthRate ~ StorkPairs', data=StorkData).fit()\n",
    "#print(model1.summary())\n",
    "\n",
    "model2 = sm.ols('BirthRate ~ StorkPairs + LandArea', data=StorkData).fit()\n",
    "print(model2.summary())"
   ]
  },
  {
   "cell_type": "markdown",
   "id": "c2382d87",
   "metadata": {},
   "source": [
    "Exercise 1 "
   ]
  },
  {
   "cell_type": "code",
   "execution_count": null,
   "id": "88b3547f",
   "metadata": {},
   "outputs": [],
   "source": [
    "#%pip install openpyxl\n",
    "import pandas as pd\n",
    "\n",
    "url = 'https://raw.githubusercontent.com/Patrick0481/Intro-to-modeling/main/video_games%20-%20Copy%20(1).xlsx'\n",
    "VideoGameData = pd.read_excel(url)\n",
    "\n",
    "import statsmodels.formula.api as sm\n"
   ]
  },
  {
   "cell_type": "code",
   "execution_count": 20,
   "id": "e35fd4be",
   "metadata": {},
   "outputs": [],
   "source": [
    "#Simple Linear Regression Models\n",
    "\n",
    "model3 = sm.ols('Sales ~ Review_Score', data=VideoGameData).fit()\n",
    "#print(model3.summary())\n",
    "\n",
    "model4 = sm.ols('Sales ~ Used_Price', data=VideoGameData).fit()\n",
    "#print(model4.summary())\n",
    "\n",
    "model5 = sm.ols('Sales ~ Release_Year', data=VideoGameData).fit()\n",
    "#print(model5.summary())\n",
    "\n",
    "model6 = sm.ols('Sales ~ Length_All_PlayStyles_Polled', data=VideoGameData).fit()\n",
    "#print(model6.summary())\n"
   ]
  },
  {
   "cell_type": "code",
   "execution_count": null,
   "id": "2849209f",
   "metadata": {},
   "outputs": [],
   "source": [
    "#Multiple Linear Regression Model\n",
    "model7 = sm.ols('Sales ~ Review_Score + Used_Price + Release_Year + Length_All_PlayStyles_Polled', data=VideoGameData).fit()\n",
    "print(model7.summary())"
   ]
  },
  {
   "cell_type": "code",
   "execution_count": null,
   "id": "5ff0d1c4",
   "metadata": {},
   "outputs": [
    {
     "name": "stdout",
     "output_type": "stream",
     "text": [
      "                       variable           VIF\n",
      "0                         const  3.807478e+06\n",
      "1                         Sales  1.193507e+00\n",
      "2                  Review_Score  1.172719e+00\n",
      "3                    Used_Price  1.115458e+00\n",
      "4                  Release_Year  1.042607e+00\n",
      "5  Length_All_PlayStyles_Polled  1.148744e+00\n"
     ]
    }
   ],
   "source": [
    "#Multicollinearity\n",
    "#VIF\n",
    "from statsmodels.stats.outliers_influence import variance_inflation_factor as vif #import the VIF function\n",
    "from statsmodels.tools.tools import add_constant #import the add_constant function\n",
    "\n",
    "X = VideoGameData[['Sales', 'Review_Score', 'Used_Price', 'Release_Year', 'Length_All_PlayStyles_Polled']].dropna() #select the relevant variables and delete missing values\n",
    "X = add_constant(X) #add a constant to the variables. VIF WON'T WORK CORRECTLY IF YOU DON'T DO THIS\n",
    "\n",
    "#Create a dataframe that contains the VIF values\n",
    "VIF_data = pd.DataFrame() #create a pandas dataframe\n",
    "VIF_data[\"variable\"] = X.columns #create a variable that simply lists the names of the variables you picked\n",
    "VIF_data[\"VIF\"] = [vif(X,i) \n",
    "                   for i in range(len(X.columns))] #a loop that creates vif values for each variable and then puts it in the VIF column\n",
    "print(VIF_data) #print the results\n"
   ]
  }
 ],
 "metadata": {
  "kernelspec": {
   "display_name": "Python 3",
   "language": "python",
   "name": "python3"
  },
  "language_info": {
   "codemirror_mode": {
    "name": "ipython",
    "version": 3
   },
   "file_extension": ".py",
   "mimetype": "text/x-python",
   "name": "python",
   "nbconvert_exporter": "python",
   "pygments_lexer": "ipython3",
   "version": "3.13.9"
  }
 },
 "nbformat": 4,
 "nbformat_minor": 5
}
