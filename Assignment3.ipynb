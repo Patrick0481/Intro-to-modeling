{
 "cells": [
  {
   "cell_type": "markdown",
   "id": "ee6ca30e",
   "metadata": {},
   "source": [
    "Assignment 3"
   ]
  },
  {
   "cell_type": "code",
   "execution_count": 6,
   "id": "62c1e524",
   "metadata": {},
   "outputs": [],
   "source": [
    "import pandas as pd\n",
    "from sklearn.model_selection import KFold, cross_val_score\n",
    "from sklearn.linear_model import LinearRegression\n",
    "from sklearn.metrics import mean_absolute_error, make_scorer\n",
    "import numpy as np\n",
    "\n",
    "# Load data\n",
    "url = \"https://raw.githubusercontent.com/Patrick0481/Intro-to-modeling/refs/heads/main/1654308boston.csv\"\n",
    "BostonData = pd.read_csv(url)\n",
    "\n"
   ]
  },
  {
   "cell_type": "code",
   "execution_count": 7,
   "id": "caeb89fb",
   "metadata": {},
   "outputs": [
    {
     "name": "stdout",
     "output_type": "stream",
     "text": [
      "MAD for each fold: [50.17820752 56.61508047 49.90871609 49.48648116 41.44634671]\n",
      "Average MAD across 5 folds: 49.5269663890078\n"
     ]
    }
   ],
   "source": [
    "#Linear Regression\n",
    "# Define features and target\n",
    "X = BostonData.drop(columns=['MEDV'])\n",
    "y = BostonData['MEDV']\n",
    "\n",
    "# Convert categorical (text) columns into numeric dummy variables\n",
    "X = pd.get_dummies(X, drop_first=True)\n",
    "\n",
    "# Initialize model\n",
    "model = LinearRegression()\n",
    "\n",
    "# Define 5-fold cross-validation\n",
    "kf = KFold(n_splits=5, shuffle=True, random_state=42)\n",
    "\n",
    "# Define custom scoring function for MAD (MAE)\n",
    "mad_scorer = make_scorer(mean_absolute_error, greater_is_better=False)\n",
    "\n",
    "# Perform 5-fold CV\n",
    "mad_scores = cross_val_score(model, X, y, scoring=mad_scorer, cv=kf)\n",
    "\n",
    "# Convert to positive MAD values\n",
    "mad_scores = -mad_scores\n",
    "\n",
    "print(\"MAD for each fold:\", mad_scores)\n",
    "print(\"Average MAD across 5 folds:\", np.mean(mad_scores))"
   ]
  },
  {
   "cell_type": "code",
   "execution_count": 8,
   "id": "dcff0cd3",
   "metadata": {},
   "outputs": [
    {
     "name": "stdout",
     "output_type": "stream",
     "text": [
      "\n",
      "Optimal Lasso alpha: 0.1206792640639329\n",
      "Lasso MAD for each fold: [50.10602111 56.95258294 49.42822367 49.27285137 41.69215057]\n",
      "Average Lasso MAD: 49.490365931311686\n"
     ]
    }
   ],
   "source": [
    "\n",
    "from sklearn.linear_model import RidgeCV, LassoCV\n",
    "\n",
    "# Load and prepare data\n",
    "url = \"https://raw.githubusercontent.com/Patrick0481/Intro-to-modeling/refs/heads/main/1654308boston.csv\"\n",
    "BostonData = pd.read_csv(url)\n",
    "\n",
    "X = BostonData.drop(columns=['MEDV'])\n",
    "y = BostonData['MEDV']\n",
    "\n",
    "# One-hot encode categorical variables\n",
    "X = pd.get_dummies(X, drop_first=True)\n",
    "\n",
    "# Define 5-fold cross-validation\n",
    "kf = KFold(n_splits=5, shuffle=True, random_state=42)\n",
    "mad_scorer = make_scorer(mean_absolute_error, greater_is_better=False)\n",
    "\n",
    "#Lasso Regression\n",
    "lasso = LassoCV(alphas=alphas, cv=kf, random_state=42)\n",
    "lasso.fit(X, y)\n",
    "lasso_alpha = lasso.alpha_\n",
    "\n",
    "lasso_mad = -cross_val_score(LassoCV(alphas=[lasso_alpha], cv=kf, random_state=42),\n",
    "                             X, y, scoring=mad_scorer, cv=kf)\n",
    "print(\"\\nOptimal Lasso alpha:\", lasso_alpha)\n",
    "print(\"Lasso MAD for each fold:\", lasso_mad)\n",
    "print(\"Average Lasso MAD:\", np.mean(lasso_mad))"
   ]
  },
  {
   "cell_type": "code",
   "execution_count": 9,
   "id": "e1114a36",
   "metadata": {},
   "outputs": [
    {
     "name": "stdout",
     "output_type": "stream",
     "text": [
      "Optimal Ridge alpha: 0.21209508879201905\n",
      "Ridge MAD for each fold: [50.20095665 57.07464413 49.09781348 49.15122338 41.77457449]\n",
      "Average Ridge MAD: 49.45984242532262\n"
     ]
    }
   ],
   "source": [
    "#Ridge Regression\n",
    "alphas = np.logspace(-3, 3, 50)  # 50 alpha values from 0.001 to 1000\n",
    "ridge = RidgeCV(alphas=alphas, cv=kf, scoring=mad_scorer)\n",
    "ridge.fit(X, y)\n",
    "ridge_alpha = ridge.alpha_\n",
    "\n",
    "ridge_mad = -cross_val_score(RidgeCV(alphas=[ridge_alpha]), X, y,\n",
    "                             scoring=mad_scorer, cv=kf)\n",
    "print(\"Optimal Ridge alpha:\", ridge_alpha)\n",
    "print(\"Ridge MAD for each fold:\", ridge_mad)\n",
    "print(\"Average Ridge MAD:\", np.mean(ridge_mad))\n"
   ]
  },
  {
   "cell_type": "code",
   "execution_count": 4,
   "id": "52dc4286",
   "metadata": {},
   "outputs": [
    {
     "name": "stderr",
     "output_type": "stream",
     "text": [
      "c:\\Users\\patri\\AppData\\Local\\Programs\\Python\\Python311\\Lib\\site-packages\\keras\\src\\layers\\core\\dense.py:92: UserWarning: Do not pass an `input_shape`/`input_dim` argument to a layer. When using Sequential models, prefer using an `Input(shape)` object as the first layer in the model instead.\n",
      "  super().__init__(activity_regularizer=activity_regularizer, **kwargs)\n"
     ]
    },
    {
     "name": "stdout",
     "output_type": "stream",
     "text": [
      "\u001b[1m3/3\u001b[0m \u001b[32m━━━━━━━━━━━━━━━━━━━━\u001b[0m\u001b[37m\u001b[0m \u001b[1m0s\u001b[0m 38ms/step\n"
     ]
    },
    {
     "name": "stderr",
     "output_type": "stream",
     "text": [
      "c:\\Users\\patri\\AppData\\Local\\Programs\\Python\\Python311\\Lib\\site-packages\\keras\\src\\layers\\core\\dense.py:92: UserWarning: Do not pass an `input_shape`/`input_dim` argument to a layer. When using Sequential models, prefer using an `Input(shape)` object as the first layer in the model instead.\n",
      "  super().__init__(activity_regularizer=activity_regularizer, **kwargs)\n"
     ]
    },
    {
     "name": "stdout",
     "output_type": "stream",
     "text": [
      "\u001b[1m3/3\u001b[0m \u001b[32m━━━━━━━━━━━━━━━━━━━━\u001b[0m\u001b[37m\u001b[0m \u001b[1m0s\u001b[0m 36ms/step\n"
     ]
    },
    {
     "name": "stderr",
     "output_type": "stream",
     "text": [
      "c:\\Users\\patri\\AppData\\Local\\Programs\\Python\\Python311\\Lib\\site-packages\\keras\\src\\layers\\core\\dense.py:92: UserWarning: Do not pass an `input_shape`/`input_dim` argument to a layer. When using Sequential models, prefer using an `Input(shape)` object as the first layer in the model instead.\n",
      "  super().__init__(activity_regularizer=activity_regularizer, **kwargs)\n"
     ]
    },
    {
     "name": "stdout",
     "output_type": "stream",
     "text": [
      "\u001b[1m3/3\u001b[0m \u001b[32m━━━━━━━━━━━━━━━━━━━━\u001b[0m\u001b[37m\u001b[0m \u001b[1m0s\u001b[0m 48ms/step\n"
     ]
    },
    {
     "name": "stderr",
     "output_type": "stream",
     "text": [
      "c:\\Users\\patri\\AppData\\Local\\Programs\\Python\\Python311\\Lib\\site-packages\\keras\\src\\layers\\core\\dense.py:92: UserWarning: Do not pass an `input_shape`/`input_dim` argument to a layer. When using Sequential models, prefer using an `Input(shape)` object as the first layer in the model instead.\n",
      "  super().__init__(activity_regularizer=activity_regularizer, **kwargs)\n"
     ]
    },
    {
     "name": "stdout",
     "output_type": "stream",
     "text": [
      "\u001b[1m3/3\u001b[0m \u001b[32m━━━━━━━━━━━━━━━━━━━━\u001b[0m\u001b[37m\u001b[0m \u001b[1m0s\u001b[0m 31ms/step\n"
     ]
    },
    {
     "name": "stderr",
     "output_type": "stream",
     "text": [
      "c:\\Users\\patri\\AppData\\Local\\Programs\\Python\\Python311\\Lib\\site-packages\\keras\\src\\layers\\core\\dense.py:92: UserWarning: Do not pass an `input_shape`/`input_dim` argument to a layer. When using Sequential models, prefer using an `Input(shape)` object as the first layer in the model instead.\n",
      "  super().__init__(activity_regularizer=activity_regularizer, **kwargs)\n"
     ]
    },
    {
     "name": "stdout",
     "output_type": "stream",
     "text": [
      "\u001b[1m3/3\u001b[0m \u001b[32m━━━━━━━━━━━━━━━━━━━━\u001b[0m\u001b[37m\u001b[0m \u001b[1m0s\u001b[0m 27ms/step\n",
      "MAD for each fold: [38.70954895019531, 49.25181198120117, 37.30810546875, 43.42402648925781, 46.83283233642578]\n",
      "Average MAD across 5 folds: 43.105265045166014\n"
     ]
    }
   ],
   "source": [
    "#%pip install tensorflow\n",
    "#%pip install pandas \n",
    "#%pip install scikit-learn\n",
    "#%pip install numpy\n",
    "\n",
    "import pandas as pd\n",
    "import numpy as np\n",
    "from sklearn.model_selection import KFold\n",
    "from sklearn.preprocessing import StandardScaler\n",
    "from sklearn.metrics import mean_absolute_error\n",
    "from tensorflow.keras.models import Sequential\n",
    "from tensorflow.keras.layers import Dense\n",
    "from tensorflow.keras.optimizers import Adam\n",
    "\n",
    "# Load and prepare data\n",
    "url = \"https://raw.githubusercontent.com/Patrick0481/Intro-to-modeling/refs/heads/main/1654308boston.csv\"\n",
    "BostonData = pd.read_csv(url)\n",
    "\n",
    "X = BostonData.drop(columns=['MEDV'])\n",
    "y = BostonData['MEDV']\n",
    "\n",
    "# One-hot encode categorical variables\n",
    "X = pd.get_dummies(X, drop_first=True)\n",
    "\n",
    "# Standardize numeric features (important for neural networks)\n",
    "scaler = StandardScaler()\n",
    "X_scaled = scaler.fit_transform(X)\n",
    "\n",
    "# Define 5-fold cross-validation\n",
    "kf = KFold(n_splits=5, shuffle=True, random_state=42)\n",
    "mad_scores = []\n",
    "\n",
    "# Function to build the model\n",
    "def build_model(input_dim):\n",
    "    model = Sequential([\n",
    "        Dense(512, activation='relu', input_dim=input_dim),\n",
    "        Dense(512, activation='relu'),\n",
    "        Dense(512, activation='relu'),\n",
    "        Dense(512, activation='relu'),\n",
    "        Dense(1)  # output layer (regression -> no activation)\n",
    "    ])\n",
    "    model.compile(optimizer=Adam(),\n",
    "                  loss='mean_absolute_error')  # MAD loss\n",
    "    return model\n",
    "\n",
    "# 5-fold CV training\n",
    "for train_idx, test_idx in kf.split(X_scaled):\n",
    "    X_train, X_test = X_scaled[train_idx], X_scaled[test_idx]\n",
    "    y_train, y_test = y.iloc[train_idx], y.iloc[test_idx]\n",
    "    \n",
    "    model = build_model(X_train.shape[1])\n",
    "    model.fit(X_train, y_train,\n",
    "              epochs=100,\n",
    "              batch_size=16,\n",
    "              verbose=0)  # silent training\n",
    "    \n",
    "    y_pred = model.predict(X_test).flatten()\n",
    "    mad = mean_absolute_error(y_test, y_pred)\n",
    "    mad_scores.append(mad)\n",
    "\n",
    "print(\"MAD for each fold:\", mad_scores)\n",
    "print(\"Average MAD across 5 folds:\", np.mean(mad_scores))"
   ]
  }
 ],
 "metadata": {
  "kernelspec": {
   "display_name": "Python 3",
   "language": "python",
   "name": "python3"
  },
  "language_info": {
   "codemirror_mode": {
    "name": "ipython",
    "version": 3
   },
   "file_extension": ".py",
   "mimetype": "text/x-python",
   "name": "python",
   "nbconvert_exporter": "python",
   "pygments_lexer": "ipython3",
   "version": "3.11.0"
  }
 },
 "nbformat": 4,
 "nbformat_minor": 5
}
