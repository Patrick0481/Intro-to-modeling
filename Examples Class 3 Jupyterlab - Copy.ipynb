{
 "cells": [
  {
   "cell_type": "code",
   "execution_count": 1,
   "id": "d568e9ca-3e66-4f87-b4b9-1bb50e38fe79",
   "metadata": {
    "tags": []
   },
   "outputs": [
    {
     "data": {
      "application/vnd.microsoft.datawrangler.viewer.v0+json": {
       "columns": [
        {
         "name": "index",
         "rawType": "int64",
         "type": "integer"
        },
        {
         "name": "Page_total_likes",
         "rawType": "int64",
         "type": "integer"
        },
        {
         "name": "Post_Month",
         "rawType": "int64",
         "type": "integer"
        },
        {
         "name": "Post_Weekday",
         "rawType": "int64",
         "type": "integer"
        },
        {
         "name": "Post_Hour",
         "rawType": "int64",
         "type": "integer"
        },
        {
         "name": "Lifetime_Post_Total_Reach",
         "rawType": "int64",
         "type": "integer"
        },
        {
         "name": "Lifetime_Post_Total_Impressions",
         "rawType": "int64",
         "type": "integer"
        },
        {
         "name": "Lifetime_Engaged_Users",
         "rawType": "int64",
         "type": "integer"
        },
        {
         "name": "Lifetime_Post_Consumers",
         "rawType": "int64",
         "type": "integer"
        },
        {
         "name": "Lifetime_Post_Consumptions",
         "rawType": "int64",
         "type": "integer"
        },
        {
         "name": "Lifetime_Post_Impressions_by_people_who_have_liked_your_Page",
         "rawType": "int64",
         "type": "integer"
        },
        {
         "name": "Lifetime_Post_reach_by_people_who_like_your_Page",
         "rawType": "int64",
         "type": "integer"
        },
        {
         "name": "Lifetime_People_who_have_liked_your_Page_and_engaged_with_your_post",
         "rawType": "int64",
         "type": "integer"
        },
        {
         "name": "comment",
         "rawType": "int64",
         "type": "integer"
        },
        {
         "name": "like",
         "rawType": "int64",
         "type": "integer"
        },
        {
         "name": "share",
         "rawType": "int64",
         "type": "integer"
        },
        {
         "name": "Total_Interactions",
         "rawType": "int64",
         "type": "integer"
        },
        {
         "name": "Type_Link",
         "rawType": "int64",
         "type": "integer"
        },
        {
         "name": "Type_Photo",
         "rawType": "int64",
         "type": "integer"
        },
        {
         "name": "Type_Status",
         "rawType": "int64",
         "type": "integer"
        },
        {
         "name": "Type_Video",
         "rawType": "int64",
         "type": "integer"
        },
        {
         "name": "Payment_Not_Paid",
         "rawType": "int64",
         "type": "integer"
        },
        {
         "name": "Payment_Paid",
         "rawType": "int64",
         "type": "integer"
        }
       ],
       "ref": "8001532b-2b76-43e1-af48-945acd3b014b",
       "rows": [
        [
         "0",
         "139441",
         "12",
         "4",
         "3",
         "2752",
         "5091",
         "178",
         "109",
         "159",
         "3078",
         "1640",
         "119",
         "4",
         "79",
         "17",
         "100",
         "0",
         "1",
         "0",
         "0",
         "1",
         "0"
        ],
        [
         "1",
         "139441",
         "12",
         "3",
         "10",
         "10460",
         "19057",
         "1457",
         "1361",
         "1674",
         "11710",
         "6112",
         "1108",
         "5",
         "130",
         "29",
         "164",
         "0",
         "0",
         "1",
         "0",
         "1",
         "0"
        ],
        [
         "2",
         "139441",
         "12",
         "3",
         "3",
         "2413",
         "4373",
         "177",
         "113",
         "154",
         "2812",
         "1503",
         "132",
         "0",
         "66",
         "14",
         "80",
         "0",
         "1",
         "0",
         "0",
         "1",
         "0"
        ],
        [
         "3",
         "139441",
         "12",
         "2",
         "10",
         "50128",
         "87991",
         "2211",
         "790",
         "1119",
         "61027",
         "32048",
         "1386",
         "58",
         "1572",
         "147",
         "1777",
         "0",
         "1",
         "0",
         "0",
         "0",
         "1"
        ],
        [
         "4",
         "139441",
         "12",
         "2",
         "3",
         "7244",
         "13594",
         "671",
         "410",
         "580",
         "6228",
         "3200",
         "396",
         "19",
         "325",
         "49",
         "393",
         "0",
         "1",
         "0",
         "0",
         "1",
         "0"
        ]
       ],
       "shape": {
        "columns": 22,
        "rows": 5
       }
      },
      "text/html": [
       "<div>\n",
       "<style scoped>\n",
       "    .dataframe tbody tr th:only-of-type {\n",
       "        vertical-align: middle;\n",
       "    }\n",
       "\n",
       "    .dataframe tbody tr th {\n",
       "        vertical-align: top;\n",
       "    }\n",
       "\n",
       "    .dataframe thead th {\n",
       "        text-align: right;\n",
       "    }\n",
       "</style>\n",
       "<table border=\"1\" class=\"dataframe\">\n",
       "  <thead>\n",
       "    <tr style=\"text-align: right;\">\n",
       "      <th></th>\n",
       "      <th>Page_total_likes</th>\n",
       "      <th>Post_Month</th>\n",
       "      <th>Post_Weekday</th>\n",
       "      <th>Post_Hour</th>\n",
       "      <th>Lifetime_Post_Total_Reach</th>\n",
       "      <th>Lifetime_Post_Total_Impressions</th>\n",
       "      <th>Lifetime_Engaged_Users</th>\n",
       "      <th>Lifetime_Post_Consumers</th>\n",
       "      <th>Lifetime_Post_Consumptions</th>\n",
       "      <th>Lifetime_Post_Impressions_by_people_who_have_liked_your_Page</th>\n",
       "      <th>...</th>\n",
       "      <th>comment</th>\n",
       "      <th>like</th>\n",
       "      <th>share</th>\n",
       "      <th>Total_Interactions</th>\n",
       "      <th>Type_Link</th>\n",
       "      <th>Type_Photo</th>\n",
       "      <th>Type_Status</th>\n",
       "      <th>Type_Video</th>\n",
       "      <th>Payment_Not_Paid</th>\n",
       "      <th>Payment_Paid</th>\n",
       "    </tr>\n",
       "  </thead>\n",
       "  <tbody>\n",
       "    <tr>\n",
       "      <th>0</th>\n",
       "      <td>139441</td>\n",
       "      <td>12</td>\n",
       "      <td>4</td>\n",
       "      <td>3</td>\n",
       "      <td>2752</td>\n",
       "      <td>5091</td>\n",
       "      <td>178</td>\n",
       "      <td>109</td>\n",
       "      <td>159</td>\n",
       "      <td>3078</td>\n",
       "      <td>...</td>\n",
       "      <td>4</td>\n",
       "      <td>79</td>\n",
       "      <td>17</td>\n",
       "      <td>100</td>\n",
       "      <td>0</td>\n",
       "      <td>1</td>\n",
       "      <td>0</td>\n",
       "      <td>0</td>\n",
       "      <td>1</td>\n",
       "      <td>0</td>\n",
       "    </tr>\n",
       "    <tr>\n",
       "      <th>1</th>\n",
       "      <td>139441</td>\n",
       "      <td>12</td>\n",
       "      <td>3</td>\n",
       "      <td>10</td>\n",
       "      <td>10460</td>\n",
       "      <td>19057</td>\n",
       "      <td>1457</td>\n",
       "      <td>1361</td>\n",
       "      <td>1674</td>\n",
       "      <td>11710</td>\n",
       "      <td>...</td>\n",
       "      <td>5</td>\n",
       "      <td>130</td>\n",
       "      <td>29</td>\n",
       "      <td>164</td>\n",
       "      <td>0</td>\n",
       "      <td>0</td>\n",
       "      <td>1</td>\n",
       "      <td>0</td>\n",
       "      <td>1</td>\n",
       "      <td>0</td>\n",
       "    </tr>\n",
       "    <tr>\n",
       "      <th>2</th>\n",
       "      <td>139441</td>\n",
       "      <td>12</td>\n",
       "      <td>3</td>\n",
       "      <td>3</td>\n",
       "      <td>2413</td>\n",
       "      <td>4373</td>\n",
       "      <td>177</td>\n",
       "      <td>113</td>\n",
       "      <td>154</td>\n",
       "      <td>2812</td>\n",
       "      <td>...</td>\n",
       "      <td>0</td>\n",
       "      <td>66</td>\n",
       "      <td>14</td>\n",
       "      <td>80</td>\n",
       "      <td>0</td>\n",
       "      <td>1</td>\n",
       "      <td>0</td>\n",
       "      <td>0</td>\n",
       "      <td>1</td>\n",
       "      <td>0</td>\n",
       "    </tr>\n",
       "    <tr>\n",
       "      <th>3</th>\n",
       "      <td>139441</td>\n",
       "      <td>12</td>\n",
       "      <td>2</td>\n",
       "      <td>10</td>\n",
       "      <td>50128</td>\n",
       "      <td>87991</td>\n",
       "      <td>2211</td>\n",
       "      <td>790</td>\n",
       "      <td>1119</td>\n",
       "      <td>61027</td>\n",
       "      <td>...</td>\n",
       "      <td>58</td>\n",
       "      <td>1572</td>\n",
       "      <td>147</td>\n",
       "      <td>1777</td>\n",
       "      <td>0</td>\n",
       "      <td>1</td>\n",
       "      <td>0</td>\n",
       "      <td>0</td>\n",
       "      <td>0</td>\n",
       "      <td>1</td>\n",
       "    </tr>\n",
       "    <tr>\n",
       "      <th>4</th>\n",
       "      <td>139441</td>\n",
       "      <td>12</td>\n",
       "      <td>2</td>\n",
       "      <td>3</td>\n",
       "      <td>7244</td>\n",
       "      <td>13594</td>\n",
       "      <td>671</td>\n",
       "      <td>410</td>\n",
       "      <td>580</td>\n",
       "      <td>6228</td>\n",
       "      <td>...</td>\n",
       "      <td>19</td>\n",
       "      <td>325</td>\n",
       "      <td>49</td>\n",
       "      <td>393</td>\n",
       "      <td>0</td>\n",
       "      <td>1</td>\n",
       "      <td>0</td>\n",
       "      <td>0</td>\n",
       "      <td>1</td>\n",
       "      <td>0</td>\n",
       "    </tr>\n",
       "  </tbody>\n",
       "</table>\n",
       "<p>5 rows × 22 columns</p>\n",
       "</div>"
      ],
      "text/plain": [
       "   Page_total_likes  Post_Month  Post_Weekday  Post_Hour  \\\n",
       "0            139441          12             4          3   \n",
       "1            139441          12             3         10   \n",
       "2            139441          12             3          3   \n",
       "3            139441          12             2         10   \n",
       "4            139441          12             2          3   \n",
       "\n",
       "   Lifetime_Post_Total_Reach  Lifetime_Post_Total_Impressions  \\\n",
       "0                       2752                             5091   \n",
       "1                      10460                            19057   \n",
       "2                       2413                             4373   \n",
       "3                      50128                            87991   \n",
       "4                       7244                            13594   \n",
       "\n",
       "   Lifetime_Engaged_Users  Lifetime_Post_Consumers  \\\n",
       "0                     178                      109   \n",
       "1                    1457                     1361   \n",
       "2                     177                      113   \n",
       "3                    2211                      790   \n",
       "4                     671                      410   \n",
       "\n",
       "   Lifetime_Post_Consumptions  \\\n",
       "0                         159   \n",
       "1                        1674   \n",
       "2                         154   \n",
       "3                        1119   \n",
       "4                         580   \n",
       "\n",
       "   Lifetime_Post_Impressions_by_people_who_have_liked_your_Page  ...  comment  \\\n",
       "0                                               3078             ...        4   \n",
       "1                                              11710             ...        5   \n",
       "2                                               2812             ...        0   \n",
       "3                                              61027             ...       58   \n",
       "4                                               6228             ...       19   \n",
       "\n",
       "   like  share  Total_Interactions  Type_Link  Type_Photo  Type_Status  \\\n",
       "0    79     17                 100          0           1            0   \n",
       "1   130     29                 164          0           0            1   \n",
       "2    66     14                  80          0           1            0   \n",
       "3  1572    147                1777          0           1            0   \n",
       "4   325     49                 393          0           1            0   \n",
       "\n",
       "   Type_Video  Payment_Not_Paid  Payment_Paid  \n",
       "0           0                 1             0  \n",
       "1           0                 1             0  \n",
       "2           0                 1             0  \n",
       "3           0                 0             1  \n",
       "4           0                 1             0  \n",
       "\n",
       "[5 rows x 22 columns]"
      ]
     },
     "execution_count": 1,
     "metadata": {},
     "output_type": "execute_result"
    }
   ],
   "source": [
    "import pandas as pd\n",
    "dataset_Facebook = pd.read_csv('dataset_Facebook.csv')\n",
    "\n",
    "#create dummy variables\n",
    "import pandas as pd\n",
    "dataset_Facebook = pd.get_dummies(dataset_Facebook, dtype=int)\n",
    "\n",
    "#check if it worked\n",
    "dataset_Facebook.head()"
   ]
  },
  {
   "cell_type": "code",
   "execution_count": 2,
   "id": "a10612ca-38f1-4008-8dd5-157dceee47d6",
   "metadata": {
    "tags": []
   },
   "outputs": [
    {
     "name": "stdout",
     "output_type": "stream",
     "text": [
      "                            OLS Regression Results                            \n",
      "==============================================================================\n",
      "Dep. Variable:                   like   R-squared:                       0.012\n",
      "Model:                            OLS   Adj. R-squared:                  0.010\n",
      "Method:                 Least Squares   F-statistic:                     5.921\n",
      "Date:                Wed, 27 Aug 2025   Prob (F-statistic):             0.0153\n",
      "Time:                        10:17:34   Log-Likelihood:                -3561.0\n",
      "No. Observations:                 495   AIC:                             7126.\n",
      "Df Residuals:                     493   BIC:                             7134.\n",
      "Df Model:                           1                                         \n",
      "Covariance Type:            nonrobust                                         \n",
      "================================================================================\n",
      "                   coef    std err          t      P>|t|      [0.025      0.975]\n",
      "--------------------------------------------------------------------------------\n",
      "Intercept      157.0843     17.109      9.181      0.000     123.469     190.699\n",
      "Payment_Paid    78.5632     32.286      2.433      0.015      15.128     141.998\n",
      "==============================================================================\n",
      "Omnibus:                      779.465   Durbin-Watson:                   2.045\n",
      "Prob(Omnibus):                  0.000   Jarque-Bera (JB):           278578.738\n",
      "Skew:                           8.786   Prob(JB):                         0.00\n",
      "Kurtosis:                     117.883   Cond. No.                         2.44\n",
      "==============================================================================\n",
      "\n",
      "Notes:\n",
      "[1] Standard Errors assume that the covariance matrix of the errors is correctly specified.\n"
     ]
    }
   ],
   "source": [
    "#Predicting likes based on paids\n",
    "import statsmodels.formula.api as sm\n",
    "model1 = sm.ols('like~Payment_Paid',data = dataset_Facebook).fit()\n",
    "print(model1.summary())"
   ]
  },
  {
   "cell_type": "code",
   "execution_count": 3,
   "id": "9836e180-0c58-4b74-abe7-3f569f5745bb",
   "metadata": {
    "tags": []
   },
   "outputs": [
    {
     "name": "stdout",
     "output_type": "stream",
     "text": [
      "                              OLS Regression Results                              \n",
      "==================================================================================\n",
      "Dep. Variable:     Lifetime_Engaged_Users   R-squared:                       0.149\n",
      "Model:                                OLS   Adj. R-squared:                  0.144\n",
      "Method:                     Least Squares   F-statistic:                     28.69\n",
      "Date:                    Wed, 27 Aug 2025   Prob (F-statistic):           4.15e-17\n",
      "Time:                            10:17:37   Log-Likelihood:                -4075.1\n",
      "No. Observations:                     495   AIC:                             8158.\n",
      "Df Residuals:                         491   BIC:                             8175.\n",
      "Df Model:                               3                                         \n",
      "Covariance Type:                nonrobust                                         \n",
      "===============================================================================\n",
      "                  coef    std err          t      P>|t|      [0.025      0.975]\n",
      "-------------------------------------------------------------------------------\n",
      "Intercept     825.3682     44.539     18.531      0.000     737.858     912.878\n",
      "Type_Status  1214.8541    143.326      8.476      0.000     933.246    1496.462\n",
      "Type_Video    881.6318    348.266      2.531      0.012     197.356    1565.908\n",
      "Type_Link    -482.5500    199.861     -2.414      0.016    -875.239     -89.861\n",
      "==============================================================================\n",
      "Omnibus:                      555.330   Durbin-Watson:                   1.713\n",
      "Prob(Omnibus):                  0.000   Jarque-Bera (JB):            45860.557\n",
      "Skew:                           5.064   Prob(JB):                         0.00\n",
      "Kurtosis:                      49.054   Cond. No.                         8.53\n",
      "==============================================================================\n",
      "\n",
      "Notes:\n",
      "[1] Standard Errors assume that the covariance matrix of the errors is correctly specified.\n"
     ]
    }
   ],
   "source": [
    "#Regression with Type\n",
    "model2 = sm.ols('Lifetime_Engaged_Users~Type_Status+Type_Video+Type_Link',data=dataset_Facebook).fit()\n",
    "print(model2.summary())"
   ]
  },
  {
   "cell_type": "code",
   "execution_count": 4,
   "id": "3eded73a-193a-4c87-9f54-b80cc69651fe",
   "metadata": {},
   "outputs": [
    {
     "data": {
      "application/vnd.microsoft.datawrangler.viewer.v0+json": {
       "columns": [
        {
         "name": "index",
         "rawType": "int64",
         "type": "integer"
        },
        {
         "name": "age",
         "rawType": "int64",
         "type": "integer"
        },
        {
         "name": "bmi",
         "rawType": "float64",
         "type": "float"
        },
        {
         "name": "children",
         "rawType": "int64",
         "type": "integer"
        },
        {
         "name": "charges",
         "rawType": "float64",
         "type": "float"
        },
        {
         "name": "sex_female",
         "rawType": "int64",
         "type": "integer"
        },
        {
         "name": "sex_male",
         "rawType": "int64",
         "type": "integer"
        },
        {
         "name": "smoker_no",
         "rawType": "int64",
         "type": "integer"
        },
        {
         "name": "smoker_yes",
         "rawType": "int64",
         "type": "integer"
        },
        {
         "name": "region_northeast",
         "rawType": "int64",
         "type": "integer"
        },
        {
         "name": "region_northwest",
         "rawType": "int64",
         "type": "integer"
        },
        {
         "name": "region_southeast",
         "rawType": "int64",
         "type": "integer"
        },
        {
         "name": "region_southwest",
         "rawType": "int64",
         "type": "integer"
        }
       ],
       "ref": "a874edd7-c4df-421d-bb18-580e96e64588",
       "rows": [
        [
         "0",
         "19",
         "27.9",
         "0",
         "16884.924",
         "1",
         "0",
         "0",
         "1",
         "0",
         "0",
         "0",
         "1"
        ],
        [
         "1",
         "18",
         "33.77",
         "1",
         "1725.5523",
         "0",
         "1",
         "1",
         "0",
         "0",
         "0",
         "1",
         "0"
        ],
        [
         "2",
         "28",
         "33.0",
         "3",
         "4449.462",
         "0",
         "1",
         "1",
         "0",
         "0",
         "0",
         "1",
         "0"
        ],
        [
         "3",
         "33",
         "22.705",
         "0",
         "21984.47061",
         "0",
         "1",
         "1",
         "0",
         "0",
         "1",
         "0",
         "0"
        ],
        [
         "4",
         "32",
         "28.88",
         "0",
         "3866.8552",
         "0",
         "1",
         "1",
         "0",
         "0",
         "1",
         "0",
         "0"
        ]
       ],
       "shape": {
        "columns": 12,
        "rows": 5
       }
      },
      "text/html": [
       "<div>\n",
       "<style scoped>\n",
       "    .dataframe tbody tr th:only-of-type {\n",
       "        vertical-align: middle;\n",
       "    }\n",
       "\n",
       "    .dataframe tbody tr th {\n",
       "        vertical-align: top;\n",
       "    }\n",
       "\n",
       "    .dataframe thead th {\n",
       "        text-align: right;\n",
       "    }\n",
       "</style>\n",
       "<table border=\"1\" class=\"dataframe\">\n",
       "  <thead>\n",
       "    <tr style=\"text-align: right;\">\n",
       "      <th></th>\n",
       "      <th>age</th>\n",
       "      <th>bmi</th>\n",
       "      <th>children</th>\n",
       "      <th>charges</th>\n",
       "      <th>sex_female</th>\n",
       "      <th>sex_male</th>\n",
       "      <th>smoker_no</th>\n",
       "      <th>smoker_yes</th>\n",
       "      <th>region_northeast</th>\n",
       "      <th>region_northwest</th>\n",
       "      <th>region_southeast</th>\n",
       "      <th>region_southwest</th>\n",
       "    </tr>\n",
       "  </thead>\n",
       "  <tbody>\n",
       "    <tr>\n",
       "      <th>0</th>\n",
       "      <td>19</td>\n",
       "      <td>27.900</td>\n",
       "      <td>0</td>\n",
       "      <td>16884.92400</td>\n",
       "      <td>1</td>\n",
       "      <td>0</td>\n",
       "      <td>0</td>\n",
       "      <td>1</td>\n",
       "      <td>0</td>\n",
       "      <td>0</td>\n",
       "      <td>0</td>\n",
       "      <td>1</td>\n",
       "    </tr>\n",
       "    <tr>\n",
       "      <th>1</th>\n",
       "      <td>18</td>\n",
       "      <td>33.770</td>\n",
       "      <td>1</td>\n",
       "      <td>1725.55230</td>\n",
       "      <td>0</td>\n",
       "      <td>1</td>\n",
       "      <td>1</td>\n",
       "      <td>0</td>\n",
       "      <td>0</td>\n",
       "      <td>0</td>\n",
       "      <td>1</td>\n",
       "      <td>0</td>\n",
       "    </tr>\n",
       "    <tr>\n",
       "      <th>2</th>\n",
       "      <td>28</td>\n",
       "      <td>33.000</td>\n",
       "      <td>3</td>\n",
       "      <td>4449.46200</td>\n",
       "      <td>0</td>\n",
       "      <td>1</td>\n",
       "      <td>1</td>\n",
       "      <td>0</td>\n",
       "      <td>0</td>\n",
       "      <td>0</td>\n",
       "      <td>1</td>\n",
       "      <td>0</td>\n",
       "    </tr>\n",
       "    <tr>\n",
       "      <th>3</th>\n",
       "      <td>33</td>\n",
       "      <td>22.705</td>\n",
       "      <td>0</td>\n",
       "      <td>21984.47061</td>\n",
       "      <td>0</td>\n",
       "      <td>1</td>\n",
       "      <td>1</td>\n",
       "      <td>0</td>\n",
       "      <td>0</td>\n",
       "      <td>1</td>\n",
       "      <td>0</td>\n",
       "      <td>0</td>\n",
       "    </tr>\n",
       "    <tr>\n",
       "      <th>4</th>\n",
       "      <td>32</td>\n",
       "      <td>28.880</td>\n",
       "      <td>0</td>\n",
       "      <td>3866.85520</td>\n",
       "      <td>0</td>\n",
       "      <td>1</td>\n",
       "      <td>1</td>\n",
       "      <td>0</td>\n",
       "      <td>0</td>\n",
       "      <td>1</td>\n",
       "      <td>0</td>\n",
       "      <td>0</td>\n",
       "    </tr>\n",
       "  </tbody>\n",
       "</table>\n",
       "</div>"
      ],
      "text/plain": [
       "   age     bmi  children      charges  sex_female  sex_male  smoker_no  \\\n",
       "0   19  27.900         0  16884.92400           1         0          0   \n",
       "1   18  33.770         1   1725.55230           0         1          1   \n",
       "2   28  33.000         3   4449.46200           0         1          1   \n",
       "3   33  22.705         0  21984.47061           0         1          1   \n",
       "4   32  28.880         0   3866.85520           0         1          1   \n",
       "\n",
       "   smoker_yes  region_northeast  region_northwest  region_southeast  \\\n",
       "0           1                 0                 0                 0   \n",
       "1           0                 0                 0                 1   \n",
       "2           0                 0                 0                 1   \n",
       "3           0                 0                 1                 0   \n",
       "4           0                 0                 1                 0   \n",
       "\n",
       "   region_southwest  \n",
       "0                 1  \n",
       "1                 0  \n",
       "2                 0  \n",
       "3                 0  \n",
       "4                 0  "
      ]
     },
     "execution_count": 4,
     "metadata": {},
     "output_type": "execute_result"
    }
   ],
   "source": [
    "#Exercise 1\n",
    "insurance = pd.read_csv('insurance.csv')\n",
    "insurance = pd.get_dummies(insurance, dtype=int)\n",
    "insurance.head()"
   ]
  },
  {
   "cell_type": "code",
   "execution_count": 5,
   "id": "d6c430b2-402a-4d06-b4de-fc1b393ab37c",
   "metadata": {
    "tags": []
   },
   "outputs": [
    {
     "name": "stdout",
     "output_type": "stream",
     "text": [
      "                            OLS Regression Results                            \n",
      "==============================================================================\n",
      "Dep. Variable:                charges   R-squared:                       0.003\n",
      "Model:                            OLS   Adj. R-squared:                  0.003\n",
      "Method:                 Least Squares   F-statistic:                     4.400\n",
      "Date:                Wed, 27 Aug 2025   Prob (F-statistic):             0.0361\n",
      "Time:                        10:17:42   Log-Likelihood:                -14475.\n",
      "No. Observations:                1338   AIC:                         2.895e+04\n",
      "Df Residuals:                    1336   BIC:                         2.897e+04\n",
      "Df Model:                           1                                         \n",
      "Covariance Type:            nonrobust                                         \n",
      "==============================================================================\n",
      "                 coef    std err          t      P>|t|      [0.025      0.975]\n",
      "------------------------------------------------------------------------------\n",
      "Intercept   1.257e+04    470.072     26.740      0.000    1.16e+04    1.35e+04\n",
      "sex_male    1387.1723    661.331      2.098      0.036      89.812    2684.532\n",
      "==============================================================================\n",
      "Omnibus:                      331.451   Durbin-Watson:                   2.011\n",
      "Prob(Omnibus):                  0.000   Jarque-Bera (JB):              636.534\n",
      "Skew:                           1.496   Prob(JB):                    6.00e-139\n",
      "Kurtosis:                       4.572   Cond. No.                         2.63\n",
      "==============================================================================\n",
      "\n",
      "Notes:\n",
      "[1] Standard Errors assume that the covariance matrix of the errors is correctly specified.\n"
     ]
    }
   ],
   "source": [
    "#model with only sex\n",
    "model3a = sm.ols('charges~sex_male',data=insurance).fit()\n",
    "print(model3a.summary())"
   ]
  },
  {
   "cell_type": "code",
   "execution_count": 6,
   "id": "cb5fd752-28fd-40d5-9950-aa9461062efd",
   "metadata": {
    "tags": []
   },
   "outputs": [
    {
     "name": "stdout",
     "output_type": "stream",
     "text": [
      "                            OLS Regression Results                            \n",
      "==============================================================================\n",
      "Dep. Variable:                charges   R-squared:                       0.620\n",
      "Model:                            OLS   Adj. R-squared:                  0.619\n",
      "Method:                 Least Squares   F-statistic:                     1088.\n",
      "Date:                Wed, 27 Aug 2025   Prob (F-statistic):          4.78e-281\n",
      "Time:                        10:17:44   Log-Likelihood:                -13831.\n",
      "No. Observations:                1338   AIC:                         2.767e+04\n",
      "Df Residuals:                    1335   BIC:                         2.768e+04\n",
      "Df Model:                           2                                         \n",
      "Covariance Type:            nonrobust                                         \n",
      "==============================================================================\n",
      "                 coef    std err          t      P>|t|      [0.025      0.975]\n",
      "------------------------------------------------------------------------------\n",
      "Intercept   8466.0358    303.541     27.891      0.000    7870.566    9061.506\n",
      "sex_male     -65.3784    409.809     -0.160      0.873    -869.318     738.561\n",
      "smoker_yes  2.362e+04    507.736     46.524      0.000    2.26e+04    2.46e+04\n",
      "==============================================================================\n",
      "Omnibus:                      135.842   Durbin-Watson:                   2.025\n",
      "Prob(Omnibus):                  0.000   Jarque-Bera (JB):              211.897\n",
      "Skew:                           0.727   Prob(JB):                     9.71e-47\n",
      "Kurtosis:                       4.299   Cond. No.                         2.97\n",
      "==============================================================================\n",
      "\n",
      "Notes:\n",
      "[1] Standard Errors assume that the covariance matrix of the errors is correctly specified.\n"
     ]
    }
   ],
   "source": [
    "#model with sex and smoker\n",
    "model3b = sm.ols('charges~sex_male+smoker_yes',data=insurance).fit()\n",
    "print(model3b.summary())"
   ]
  },
  {
   "cell_type": "code",
   "execution_count": 7,
   "id": "61ee3135-aac8-4b3e-80a7-5833a59ea145",
   "metadata": {
    "tags": []
   },
   "outputs": [
    {
     "data": {
      "application/vnd.microsoft.datawrangler.viewer.v0+json": {
       "columns": [
        {
         "name": "sex_male",
         "rawType": "int64",
         "type": "integer"
        },
        {
         "name": "0",
         "rawType": "float64",
         "type": "float"
        },
        {
         "name": "1",
         "rawType": "float64",
         "type": "float"
        }
       ],
       "ref": "15670cf4-a0bf-461b-a24f-2a469c297953",
       "rows": [
        [
         "0",
         "0.51",
         "0.42"
        ],
        [
         "1",
         "0.49",
         "0.58"
        ]
       ],
       "shape": {
        "columns": 2,
        "rows": 2
       }
      },
      "text/html": [
       "<div>\n",
       "<style scoped>\n",
       "    .dataframe tbody tr th:only-of-type {\n",
       "        vertical-align: middle;\n",
       "    }\n",
       "\n",
       "    .dataframe tbody tr th {\n",
       "        vertical-align: top;\n",
       "    }\n",
       "\n",
       "    .dataframe thead th {\n",
       "        text-align: right;\n",
       "    }\n",
       "</style>\n",
       "<table border=\"1\" class=\"dataframe\">\n",
       "  <thead>\n",
       "    <tr style=\"text-align: right;\">\n",
       "      <th>smoker_yes</th>\n",
       "      <th>0</th>\n",
       "      <th>1</th>\n",
       "    </tr>\n",
       "    <tr>\n",
       "      <th>sex_male</th>\n",
       "      <th></th>\n",
       "      <th></th>\n",
       "    </tr>\n",
       "  </thead>\n",
       "  <tbody>\n",
       "    <tr>\n",
       "      <th>0</th>\n",
       "      <td>0.51</td>\n",
       "      <td>0.42</td>\n",
       "    </tr>\n",
       "    <tr>\n",
       "      <th>1</th>\n",
       "      <td>0.49</td>\n",
       "      <td>0.58</td>\n",
       "    </tr>\n",
       "  </tbody>\n",
       "</table>\n",
       "</div>"
      ],
      "text/plain": [
       "smoker_yes     0     1\n",
       "sex_male              \n",
       "0           0.51  0.42\n",
       "1           0.49  0.58"
      ]
     },
     "execution_count": 7,
     "metadata": {},
     "output_type": "execute_result"
    }
   ],
   "source": [
    "#Create a table to show the percentage of male smokers\n",
    "table = pd.crosstab(index=insurance['sex_male'],columns=insurance['smoker_yes'])\n",
    "(table/table.sum()).round(2)"
   ]
  },
  {
   "cell_type": "code",
   "execution_count": 8,
   "id": "b322e712-5297-4b6c-8ccc-f8d82a5eb363",
   "metadata": {},
   "outputs": [
    {
     "data": {
      "application/vnd.microsoft.datawrangler.viewer.v0+json": {
       "columns": [
        {
         "name": "index",
         "rawType": "int64",
         "type": "integer"
        },
        {
         "name": "Salary",
         "rawType": "int64",
         "type": "integer"
        },
        {
         "name": "Performance",
         "rawType": "int64",
         "type": "integer"
        },
        {
         "name": "Department",
         "rawType": "object",
         "type": "string"
        },
        {
         "name": "Age",
         "rawType": "int64",
         "type": "integer"
        },
        {
         "name": "Student_Approval",
         "rawType": "float64",
         "type": "float"
        },
        {
         "name": "Experience",
         "rawType": "int64",
         "type": "integer"
        },
        {
         "name": "Gender",
         "rawType": "object",
         "type": "string"
        }
       ],
       "ref": "24779ce0-608f-451a-8eeb-ff64c6cd9fb2",
       "rows": [
        [
         "0",
         "56345",
         "12",
         "Arts",
         "30",
         "88.0",
         "5",
         "Female"
        ],
        [
         "1",
         "76272",
         "12",
         "Business",
         "30",
         "85.3",
         "4",
         "Male"
        ],
        [
         "2",
         "72327",
         "12",
         "Chemistry",
         "30",
         "85.0",
         "4",
         "Male"
        ],
        [
         "3",
         "76312",
         "13",
         "Chemistry",
         "31",
         "87.3",
         "5",
         "Male"
        ],
        [
         "4",
         "73309",
         "20",
         "Business",
         "31",
         "78.9",
         "6",
         "Male"
        ]
       ],
       "shape": {
        "columns": 7,
        "rows": 5
       }
      },
      "text/html": [
       "<div>\n",
       "<style scoped>\n",
       "    .dataframe tbody tr th:only-of-type {\n",
       "        vertical-align: middle;\n",
       "    }\n",
       "\n",
       "    .dataframe tbody tr th {\n",
       "        vertical-align: top;\n",
       "    }\n",
       "\n",
       "    .dataframe thead th {\n",
       "        text-align: right;\n",
       "    }\n",
       "</style>\n",
       "<table border=\"1\" class=\"dataframe\">\n",
       "  <thead>\n",
       "    <tr style=\"text-align: right;\">\n",
       "      <th></th>\n",
       "      <th>Salary</th>\n",
       "      <th>Performance</th>\n",
       "      <th>Department</th>\n",
       "      <th>Age</th>\n",
       "      <th>Student_Approval</th>\n",
       "      <th>Experience</th>\n",
       "      <th>Gender</th>\n",
       "    </tr>\n",
       "  </thead>\n",
       "  <tbody>\n",
       "    <tr>\n",
       "      <th>0</th>\n",
       "      <td>56345</td>\n",
       "      <td>12</td>\n",
       "      <td>Arts</td>\n",
       "      <td>30</td>\n",
       "      <td>88.0</td>\n",
       "      <td>5</td>\n",
       "      <td>Female</td>\n",
       "    </tr>\n",
       "    <tr>\n",
       "      <th>1</th>\n",
       "      <td>76272</td>\n",
       "      <td>12</td>\n",
       "      <td>Business</td>\n",
       "      <td>30</td>\n",
       "      <td>85.3</td>\n",
       "      <td>4</td>\n",
       "      <td>Male</td>\n",
       "    </tr>\n",
       "    <tr>\n",
       "      <th>2</th>\n",
       "      <td>72327</td>\n",
       "      <td>12</td>\n",
       "      <td>Chemistry</td>\n",
       "      <td>30</td>\n",
       "      <td>85.0</td>\n",
       "      <td>4</td>\n",
       "      <td>Male</td>\n",
       "    </tr>\n",
       "    <tr>\n",
       "      <th>3</th>\n",
       "      <td>76312</td>\n",
       "      <td>13</td>\n",
       "      <td>Chemistry</td>\n",
       "      <td>31</td>\n",
       "      <td>87.3</td>\n",
       "      <td>5</td>\n",
       "      <td>Male</td>\n",
       "    </tr>\n",
       "    <tr>\n",
       "      <th>4</th>\n",
       "      <td>73309</td>\n",
       "      <td>20</td>\n",
       "      <td>Business</td>\n",
       "      <td>31</td>\n",
       "      <td>78.9</td>\n",
       "      <td>6</td>\n",
       "      <td>Male</td>\n",
       "    </tr>\n",
       "  </tbody>\n",
       "</table>\n",
       "</div>"
      ],
      "text/plain": [
       "   Salary  Performance Department  Age  Student_Approval  Experience  Gender\n",
       "0   56345           12       Arts   30              88.0           5  Female\n",
       "1   76272           12   Business   30              85.3           4    Male\n",
       "2   72327           12  Chemistry   30              85.0           4    Male\n",
       "3   76312           13  Chemistry   31              87.3           5    Male\n",
       "4   73309           20   Business   31              78.9           6    Male"
      ]
     },
     "execution_count": 8,
     "metadata": {},
     "output_type": "execute_result"
    }
   ],
   "source": [
    "#Standardization examples\n",
    "import pandas as pd\n",
    "Uni_salaries = pd.read_excel('University Salaries.xlsx')\n",
    "Uni_salaries.head()"
   ]
  },
  {
   "cell_type": "code",
   "execution_count": 9,
   "id": "752af7df",
   "metadata": {},
   "outputs": [
    {
     "name": "stdout",
     "output_type": "stream",
     "text": [
      "                            OLS Regression Results                            \n",
      "==============================================================================\n",
      "Dep. Variable:                 Salary   R-squared:                       0.166\n",
      "Model:                            OLS   Adj. R-squared:                  0.156\n",
      "Method:                 Least Squares   F-statistic:                     16.60\n",
      "Date:                Wed, 27 Aug 2025   Prob (F-statistic):           2.65e-07\n",
      "Time:                        10:17:51   Log-Likelihood:                -1883.6\n",
      "No. Observations:                 170   AIC:                             3773.\n",
      "Df Residuals:                     167   BIC:                             3783.\n",
      "Df Model:                           2                                         \n",
      "Covariance Type:            nonrobust                                         \n",
      "====================================================================================\n",
      "                       coef    std err          t      P>|t|      [0.025      0.975]\n",
      "------------------------------------------------------------------------------------\n",
      "Intercept         4585.4858   1.67e+04      0.275      0.784   -2.84e+04    3.75e+04\n",
      "Performance       2800.1609    543.275      5.154      0.000    1727.590    3872.732\n",
      "Student_Approval   413.3711    172.883      2.391      0.018      72.053     754.689\n",
      "==============================================================================\n",
      "Omnibus:                       11.207   Durbin-Watson:                   1.858\n",
      "Prob(Omnibus):                  0.004   Jarque-Bera (JB):                9.799\n",
      "Skew:                           0.509   Prob(JB):                      0.00745\n",
      "Kurtosis:                       2.413   Cond. No.                     1.19e+03\n",
      "==============================================================================\n",
      "\n",
      "Notes:\n",
      "[1] Standard Errors assume that the covariance matrix of the errors is correctly specified.\n",
      "[2] The condition number is large, 1.19e+03. This might indicate that there are\n",
      "strong multicollinearity or other numerical problems.\n",
      "                            OLS Regression Results                            \n",
      "==============================================================================\n",
      "Dep. Variable:                 Salary   R-squared:                       0.166\n",
      "Model:                            OLS   Adj. R-squared:                  0.156\n",
      "Method:                 Least Squares   F-statistic:                     16.60\n",
      "Date:                Wed, 27 Aug 2025   Prob (F-statistic):           2.65e-07\n",
      "Time:                        10:17:51   Log-Likelihood:                -1883.6\n",
      "No. Observations:                 170   AIC:                             3773.\n",
      "Df Residuals:                     167   BIC:                             3783.\n",
      "Df Model:                           2                                         \n",
      "Covariance Type:            nonrobust                                         \n",
      "======================================================================================\n",
      "                         coef    std err          t      P>|t|      [0.025      0.975]\n",
      "--------------------------------------------------------------------------------------\n",
      "Intercept           4585.4858   1.67e+04      0.275      0.784   -2.84e+04    3.75e+04\n",
      "Performance         2800.1609    543.275      5.154      0.000    1727.590    3872.732\n",
      "Student_Approval10  4133.7112   1728.832      2.391      0.018     720.529    7546.893\n",
      "==============================================================================\n",
      "Omnibus:                       11.207   Durbin-Watson:                   1.858\n",
      "Prob(Omnibus):                  0.004   Jarque-Bera (JB):                9.799\n",
      "Skew:                           0.509   Prob(JB):                      0.00745\n",
      "Kurtosis:                       2.413   Cond. No.                         245.\n",
      "==============================================================================\n",
      "\n",
      "Notes:\n",
      "[1] Standard Errors assume that the covariance matrix of the errors is correctly specified.\n"
     ]
    }
   ],
   "source": [
    "#standardization examples\n",
    "import statsmodels.formula.api as sm\n",
    "model1a = sm.ols('Salary~Performance + Student_Approval',data=Uni_salaries).fit()\n",
    "print(model1a.summary())\n",
    "\n",
    "#Divide student approval by 10\n",
    "Uni_salaries = Uni_salaries.assign(Student_Approval10 = Uni_salaries.Student_Approval/10)\n",
    "\n",
    "#second model\n",
    "model1b = sm.ols('Salary~Performance + Student_Approval10',data=Uni_salaries).fit()\n",
    "print(model1b.summary())"
   ]
  },
  {
   "cell_type": "code",
   "execution_count": 10,
   "id": "8bd833ba",
   "metadata": {},
   "outputs": [
    {
     "data": {
      "application/vnd.microsoft.datawrangler.viewer.v0+json": {
       "columns": [
        {
         "name": "index",
         "rawType": "int64",
         "type": "integer"
        },
        {
         "name": "Salary",
         "rawType": "int64",
         "type": "integer"
        },
        {
         "name": "Performance",
         "rawType": "float64",
         "type": "float"
        },
        {
         "name": "Department",
         "rawType": "object",
         "type": "string"
        },
        {
         "name": "Age",
         "rawType": "int64",
         "type": "integer"
        },
        {
         "name": "Student_Approval",
         "rawType": "float64",
         "type": "float"
        },
        {
         "name": "Experience",
         "rawType": "int64",
         "type": "integer"
        },
        {
         "name": "Gender",
         "rawType": "object",
         "type": "string"
        },
        {
         "name": "Student_Approval10",
         "rawType": "float64",
         "type": "float"
        }
       ],
       "ref": "737c049f-74fa-480c-ad54-94a77a9c02b6",
       "rows": [
        [
         "0",
         "56345",
         "-1.5466402577160816",
         "Arts",
         "30",
         "0.44011463998048306",
         "5",
         "Female",
         "8.8"
        ],
        [
         "1",
         "76272",
         "-1.5466402577160816",
         "Business",
         "30",
         "0.05591414596937258",
         "4",
         "Male",
         "8.53"
        ],
        [
         "2",
         "72327",
         "-1.5466402577160816",
         "Chemistry",
         "30",
         "0.013225202190360755",
         "4",
         "Male",
         "8.5"
        ],
        [
         "3",
         "76312",
         "-1.0994823600770784",
         "Chemistry",
         "31",
         "0.34050710449612076",
         "5",
         "Male",
         "8.73"
        ],
        [
         "4",
         "73309",
         "2.0306229233959434",
         "Business",
         "31",
         "-0.8547833213162204",
         "6",
         "Male",
         "7.890000000000001"
        ]
       ],
       "shape": {
        "columns": 8,
        "rows": 5
       }
      },
      "text/html": [
       "<div>\n",
       "<style scoped>\n",
       "    .dataframe tbody tr th:only-of-type {\n",
       "        vertical-align: middle;\n",
       "    }\n",
       "\n",
       "    .dataframe tbody tr th {\n",
       "        vertical-align: top;\n",
       "    }\n",
       "\n",
       "    .dataframe thead th {\n",
       "        text-align: right;\n",
       "    }\n",
       "</style>\n",
       "<table border=\"1\" class=\"dataframe\">\n",
       "  <thead>\n",
       "    <tr style=\"text-align: right;\">\n",
       "      <th></th>\n",
       "      <th>Salary</th>\n",
       "      <th>Performance</th>\n",
       "      <th>Department</th>\n",
       "      <th>Age</th>\n",
       "      <th>Student_Approval</th>\n",
       "      <th>Experience</th>\n",
       "      <th>Gender</th>\n",
       "      <th>Student_Approval10</th>\n",
       "    </tr>\n",
       "  </thead>\n",
       "  <tbody>\n",
       "    <tr>\n",
       "      <th>0</th>\n",
       "      <td>56345</td>\n",
       "      <td>-1.546640</td>\n",
       "      <td>Arts</td>\n",
       "      <td>30</td>\n",
       "      <td>0.440115</td>\n",
       "      <td>5</td>\n",
       "      <td>Female</td>\n",
       "      <td>8.80</td>\n",
       "    </tr>\n",
       "    <tr>\n",
       "      <th>1</th>\n",
       "      <td>76272</td>\n",
       "      <td>-1.546640</td>\n",
       "      <td>Business</td>\n",
       "      <td>30</td>\n",
       "      <td>0.055914</td>\n",
       "      <td>4</td>\n",
       "      <td>Male</td>\n",
       "      <td>8.53</td>\n",
       "    </tr>\n",
       "    <tr>\n",
       "      <th>2</th>\n",
       "      <td>72327</td>\n",
       "      <td>-1.546640</td>\n",
       "      <td>Chemistry</td>\n",
       "      <td>30</td>\n",
       "      <td>0.013225</td>\n",
       "      <td>4</td>\n",
       "      <td>Male</td>\n",
       "      <td>8.50</td>\n",
       "    </tr>\n",
       "    <tr>\n",
       "      <th>3</th>\n",
       "      <td>76312</td>\n",
       "      <td>-1.099482</td>\n",
       "      <td>Chemistry</td>\n",
       "      <td>31</td>\n",
       "      <td>0.340507</td>\n",
       "      <td>5</td>\n",
       "      <td>Male</td>\n",
       "      <td>8.73</td>\n",
       "    </tr>\n",
       "    <tr>\n",
       "      <th>4</th>\n",
       "      <td>73309</td>\n",
       "      <td>2.030623</td>\n",
       "      <td>Business</td>\n",
       "      <td>31</td>\n",
       "      <td>-0.854783</td>\n",
       "      <td>6</td>\n",
       "      <td>Male</td>\n",
       "      <td>7.89</td>\n",
       "    </tr>\n",
       "  </tbody>\n",
       "</table>\n",
       "</div>"
      ],
      "text/plain": [
       "   Salary  Performance Department  Age  Student_Approval  Experience  Gender  \\\n",
       "0   56345    -1.546640       Arts   30          0.440115           5  Female   \n",
       "1   76272    -1.546640   Business   30          0.055914           4    Male   \n",
       "2   72327    -1.546640  Chemistry   30          0.013225           4    Male   \n",
       "3   76312    -1.099482  Chemistry   31          0.340507           5    Male   \n",
       "4   73309     2.030623   Business   31         -0.854783           6    Male   \n",
       "\n",
       "   Student_Approval10  \n",
       "0                8.80  \n",
       "1                8.53  \n",
       "2                8.50  \n",
       "3                8.73  \n",
       "4                7.89  "
      ]
     },
     "execution_count": 10,
     "metadata": {},
     "output_type": "execute_result"
    }
   ],
   "source": [
    "#Standardized Regression\n",
    "from sklearn.preprocessing import StandardScaler #import the StandardScaler function\n",
    "Uni_salaries_s = Uni_salaries #create a new dataset that will contain the standardized data\n",
    "Uni_salaries_s[['Performance','Student_Approval']] = StandardScaler().fit_transform(Uni_salaries_s[['Performance','Student_Approval']]) #standarize the two variables\n",
    "Uni_salaries_s.head() #double check"
   ]
  },
  {
   "cell_type": "code",
   "execution_count": 11,
   "id": "4e566cf5",
   "metadata": {},
   "outputs": [
    {
     "name": "stdout",
     "output_type": "stream",
     "text": [
      "                            OLS Regression Results                            \n",
      "==============================================================================\n",
      "Dep. Variable:                 Salary   R-squared:                       0.166\n",
      "Model:                            OLS   Adj. R-squared:                  0.156\n",
      "Method:                 Least Squares   F-statistic:                     16.60\n",
      "Date:                Wed, 27 Aug 2025   Prob (F-statistic):           2.65e-07\n",
      "Time:                        10:17:58   Log-Likelihood:                -1883.6\n",
      "No. Observations:                 170   AIC:                             3773.\n",
      "Df Residuals:                     167   BIC:                             3783.\n",
      "Df Model:                           2                                         \n",
      "Covariance Type:            nonrobust                                         \n",
      "====================================================================================\n",
      "                       coef    std err          t      P>|t|      [0.025      0.975]\n",
      "------------------------------------------------------------------------------------\n",
      "Intercept         8.297e+04   1214.173     68.335      0.000    8.06e+04    8.54e+04\n",
      "Performance       6262.1301   1214.950      5.154      0.000    3863.489    8660.771\n",
      "Student_Approval  2904.9989   1214.950      2.391      0.018     506.358    5303.640\n",
      "==============================================================================\n",
      "Omnibus:                       11.207   Durbin-Watson:                   1.858\n",
      "Prob(Omnibus):                  0.004   Jarque-Bera (JB):                9.799\n",
      "Skew:                           0.509   Prob(JB):                      0.00745\n",
      "Kurtosis:                       2.413   Cond. No.                         1.04\n",
      "==============================================================================\n",
      "\n",
      "Notes:\n",
      "[1] Standard Errors assume that the covariance matrix of the errors is correctly specified.\n"
     ]
    }
   ],
   "source": [
    "#Standardized Regression\n",
    "model1c = sm.ols('Salary~Performance+Student_Approval',data=Uni_salaries_s).fit()\n",
    "print(model1c.summary())"
   ]
  },
  {
   "cell_type": "code",
   "execution_count": 12,
   "id": "27cc26ad",
   "metadata": {},
   "outputs": [
    {
     "name": "stdout",
     "output_type": "stream",
     "text": [
      "                            OLS Regression Results                            \n",
      "==============================================================================\n",
      "Dep. Variable:                charges   R-squared:                       0.117\n",
      "Model:                            OLS   Adj. R-squared:                  0.116\n",
      "Method:                 Least Squares   F-statistic:                     88.60\n",
      "Date:                Wed, 27 Aug 2025   Prob (F-statistic):           7.39e-37\n",
      "Time:                        10:18:02   Log-Likelihood:                -14394.\n",
      "No. Observations:                1338   AIC:                         2.879e+04\n",
      "Df Residuals:                    1335   BIC:                         2.881e+04\n",
      "Df Model:                           2                                         \n",
      "Covariance Type:            nonrobust                                         \n",
      "==============================================================================\n",
      "                 coef    std err          t      P>|t|      [0.025      0.975]\n",
      "------------------------------------------------------------------------------\n",
      "Intercept   1.327e+04    311.298     42.629      0.000    1.27e+04    1.39e+04\n",
      "age         3397.8474    313.174     10.850      0.000    2783.481    4012.213\n",
      "bmi         2029.7244    313.174      6.481      0.000    1415.358    2644.091\n",
      "==============================================================================\n",
      "Omnibus:                      321.874   Durbin-Watson:                   2.010\n",
      "Prob(Omnibus):                  0.000   Jarque-Bera (JB):              592.574\n",
      "Skew:                           1.511   Prob(JB):                    2.11e-129\n",
      "Kurtosis:                       4.223   Cond. No.                         1.12\n",
      "==============================================================================\n",
      "\n",
      "Notes:\n",
      "[1] Standard Errors assume that the covariance matrix of the errors is correctly specified.\n"
     ]
    }
   ],
   "source": [
    "#Exercise 1\n",
    "from sklearn.preprocessing import StandardScaler #import the StandardScaler function\n",
    "insurance = pd.read_csv('insurance.csv')\n",
    "insurance_s = insurance.copy()\n",
    "insurance_s[['age','bmi']] = StandardScaler().fit_transform(insurance_s[['age','bmi']])\n",
    "model2 = sm.ols('charges~age+bmi',data=insurance_s).fit()\n",
    "print(model2.summary())"
   ]
  },
  {
   "cell_type": "code",
   "execution_count": 13,
   "id": "a88ff09f",
   "metadata": {},
   "outputs": [
    {
     "data": {
      "text/html": [
       "<table style=\"text-align:center\"><tr><td colspan=\"2\" style=\"border-bottom: 1px solid black\"></td></tr>\n",
       "<tr><td style=\"text-align:left\"></td><td colspan=\"1\"><em>Dependent variable: charges</em></td></tr><tr><td style=\"text-align:left\"></td><tr><td style=\"text-align:left\"></td><td>(1)</td></tr>\n",
       "<tr><td colspan=\"2\" style=\"border-bottom: 1px solid black\"></td></tr>\n",
       "\n",
       "<tr><td style=\"text-align:left\">Intercept</td><td>13270.422<sup>***</sup></td></tr>\n",
       "<tr><td style=\"text-align:left\"></td><td>(311.298)</td></tr>\n",
       "<tr><td style=\"text-align:left\">age</td><td>3397.847<sup>***</sup></td></tr>\n",
       "<tr><td style=\"text-align:left\"></td><td>(313.174)</td></tr>\n",
       "<tr><td style=\"text-align:left\">bmi</td><td>2029.724<sup>***</sup></td></tr>\n",
       "<tr><td style=\"text-align:left\"></td><td>(313.174)</td></tr>\n",
       "\n",
       "<td colspan=\"2\" style=\"border-bottom: 1px solid black\"></td></tr>\n",
       "<tr><td style=\"text-align: left\">Observations</td><td>1338</td></tr><tr><td style=\"text-align: left\">R<sup>2</sup></td><td>0.117</td></tr><tr><td style=\"text-align: left\">Adjusted R<sup>2</sup></td><td>0.116</td></tr><tr><td style=\"text-align: left\">Residual Std. Error</td><td>11386.883 (df=1335)</td></tr><tr><td style=\"text-align: left\">F Statistic</td><td>88.603<sup>***</sup> (df=2; 1335)</td></tr>\n",
       "<tr><td colspan=\"2\" style=\"border-bottom: 1px solid black\"></td></tr><tr><td style=\"text-align: left\">Note:</td><td colspan=\"1\" style=\"text-align: right\"><sup>*</sup>p&lt;0.1; <sup>**</sup>p&lt;0.05; <sup>***</sup>p&lt;0.01</td></tr></table>"
      ],
      "text/plain": [
       "<IPython.core.display.HTML object>"
      ]
     },
     "execution_count": 13,
     "metadata": {},
     "output_type": "execute_result"
    }
   ],
   "source": [
    "from stargazer.stargazer import Stargazer\n",
    "from IPython.core.display import HTML\n",
    "\n",
    "table=Stargazer([model2])\n",
    "\n",
    "HTML(table.render_html())"
   ]
  }
 ],
 "metadata": {
  "kernelspec": {
   "display_name": "env2526",
   "language": "python",
   "name": "python3"
  },
  "language_info": {
   "codemirror_mode": {
    "name": "ipython",
    "version": 3
   },
   "file_extension": ".py",
   "mimetype": "text/x-python",
   "name": "python",
   "nbconvert_exporter": "python",
   "pygments_lexer": "ipython3",
   "version": "3.13.5"
  }
 },
 "nbformat": 4,
 "nbformat_minor": 5
}
