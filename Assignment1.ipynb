{
 "cells": [
  {
   "cell_type": "markdown",
   "id": "5d6bfa00",
   "metadata": {},
   "source": [
    "Assignment 1"
   ]
  },
  {
   "cell_type": "code",
   "execution_count": null,
   "id": "413cfd36",
   "metadata": {},
   "outputs": [
    {
     "name": "stdout",
     "output_type": "stream",
     "text": [
      "                            OLS Regression Results                            \n",
      "==============================================================================\n",
      "Dep. Variable:                   MEDV   R-squared:                       0.510\n",
      "Model:                            OLS   Adj. R-squared:                  0.508\n",
      "Method:                 Least Squares   F-statistic:                     235.3\n",
      "Date:                Thu, 23 Oct 2025   Prob (F-statistic):           9.12e-71\n",
      "Time:                        11:36:08   Log-Likelihood:                -2855.2\n",
      "No. Observations:                 455   AIC:                             5716.\n",
      "Df Residuals:                     452   BIC:                             5729.\n",
      "Df Model:                           2                                         \n",
      "Covariance Type:            nonrobust                                         \n",
      "==============================================================================\n",
      "                 coef    std err          t      P>|t|      [0.025      0.975]\n",
      "------------------------------------------------------------------------------\n",
      "Intercept   -482.1251     61.961     -7.781      0.000    -603.892    -360.358\n",
      "AGE           -1.4458      0.222     -6.500      0.000      -1.883      -1.009\n",
      "RM           164.2478      8.919     18.415      0.000     146.719     181.776\n",
      "==============================================================================\n",
      "Omnibus:                      171.764   Durbin-Watson:                   1.866\n",
      "Prob(Omnibus):                  0.000   Jarque-Bera (JB):             1163.250\n",
      "Skew:                           1.464   Prob(JB):                    2.53e-253\n",
      "Kurtosis:                      10.265   Cond. No.                         772.\n",
      "==============================================================================\n",
      "\n",
      "Notes:\n",
      "[1] Standard Errors assume that the covariance matrix of the errors is correctly specified.\n"
     ]
    }
   ],
   "source": [
    "import pandas as pd\n",
    "import statsmodels.formula.api as sm \n",
    "\n",
    "url = \"https://raw.githubusercontent.com/Patrick0481/Intro-to-modeling/refs/heads/main/1654308boston.csv\"\n",
    "BostonData = pd.read_csv(url)\n",
    "#print(BostonData.head()) \n",
    "\n",
    "\n",
    "model1 = sm.ols('MEDV ~ AGE + RM', data=BostonData).fit()\n",
    "print(model1.summary())\n"
   ]
  },
  {
   "cell_type": "code",
   "execution_count": 7,
   "id": "6e57c101",
   "metadata": {},
   "outputs": [
    {
     "data": {
      "image/png": "[encoded data removed]",
      "text/plain": [
       "<Figure size 640x480 with 2 Axes>"
      ]
     },
     "metadata": {},
     "output_type": "display_data"
    }
   ],
   "source": [
    "#Correlation heatmap\n",
    "import seaborn as sns\n",
    "import matplotlib.pyplot as plt\n",
    "\n",
    "Collums = ['MEDV', 'AGE', 'RM'] \n",
    "CorrelationMatrix = BostonData[Collums].corr()\n",
    "\n",
    "sns.heatmap(CorrelationMatrix, annot=True, cmap='coolwarm')\n",
    "plt.title('Correlation Heatmap: House Prices, Age and Rooms')\n",
    "plt.show()"
   ]
  },
  {
   "cell_type": "code",
   "execution_count": null,
   "id": "ac54e308",
   "metadata": {},
   "outputs": [
    {
     "name": "stdout",
     "output_type": "stream",
     "text": [
      "                            OLS Regression Results                            \n",
      "==============================================================================\n",
      "Dep. Variable:                   MEDV   R-squared:                       0.885\n",
      "Model:                            OLS   Adj. R-squared:                  0.882\n",
      "Method:                 Least Squares   F-statistic:                     261.5\n",
      "Date:                Thu, 23 Oct 2025   Prob (F-statistic):          8.50e-198\n",
      "Time:                        11:49:32   Log-Likelihood:                -2525.2\n",
      "No. Observations:                 455   AIC:                             5078.\n",
      "Df Residuals:                     441   BIC:                             5136.\n",
      "Df Model:                          13                                         \n",
      "Covariance Type:            nonrobust                                         \n",
      "=============================================================================================\n",
      "                                coef    std err          t      P>|t|      [0.025      0.975]\n",
      "---------------------------------------------------------------------------------------------\n",
      "Intercept                  1165.2430     70.291     16.577      0.000    1027.097    1303.389\n",
      "LANDMARK[T.No Landmark]    -548.8506     22.530    -24.361      0.000    -593.129    -504.572\n",
      "LANDMARK[T.Park]           -304.0483     22.220    -13.684      0.000    -347.718    -260.379\n",
      "LANDMARK[T.Shopping Mall]  -431.5464     23.050    -18.722      0.000    -476.848    -386.245\n",
      "LANDMARK[T.Stadium]         -24.2090     30.236     -0.801      0.424     -83.633      35.215\n",
      "AGE                          -0.6562      0.177     -3.708      0.000      -1.004      -0.308\n",
      "RM                           29.4809      5.888      5.007      0.000      17.909      41.053\n",
      "CRIM                         -3.4874      0.432     -8.077      0.000      -4.336      -2.639\n",
      "INDUS                         0.8194      0.858      0.954      0.340      -0.868       2.507\n",
      "NOX                        -237.9292     52.724     -4.513      0.000    -341.551    -134.308\n",
      "DIS                          -8.4648      2.687     -3.151      0.002     -13.745      -3.184\n",
      "RAD                           2.5489      0.913      2.791      0.005       0.754       4.344\n",
      "TAX                          -0.1856      0.051     -3.640      0.000      -0.286      -0.085\n",
      "PTRATIO                      -7.9906      1.800     -4.439      0.000     -11.528      -4.453\n",
      "==============================================================================\n",
      "Omnibus:                        7.848   Durbin-Watson:                   2.035\n",
      "Prob(Omnibus):                  0.020   Jarque-Bera (JB):                9.529\n",
      "Skew:                           0.188   Prob(JB):                      0.00853\n",
      "Kurtosis:                       3.601   Cond. No.                     1.21e+04\n",
      "==============================================================================\n",
      "\n",
      "Notes:\n",
      "[1] Standard Errors assume that the covariance matrix of the errors is correctly specified.\n",
      "[2] The condition number is large, 1.21e+04. This might indicate that there are\n",
      "strong multicollinearity or other numerical problems.\n"
     ]
    }
   ],
   "source": [
    "model2 = sm.ols('MEDV ~ AGE + RM + CRIM + INDUS + NOX + DIS + RAD + TAX + PTRATIO + LANDMARK', data=BostonData).fit()\n",
    "print(model2.summary())\n",
    "\n",
    "#When runnin this code it give a note saying that the condition number is large, 1e+18. This might indicate that there is\n",
    "#strong multicollinearity\n"
   ]
  },
  {
   "cell_type": "code",
   "execution_count": 22,
   "id": "b77195a1",
   "metadata": {},
   "outputs": [
    {
     "name": "stdout",
     "output_type": "stream",
     "text": [
      "                  variable        VIF\n",
      "3                       RM  86.700592\n",
      "8                  PTRATIO  85.342630\n",
      "2                      NOX  74.675255\n",
      "7                      TAX  58.664891\n",
      "10    LANDMARK_No Landmark  39.161748\n",
      "4                      AGE  19.701094\n",
      "6                      RAD  14.871396\n",
      "1                    INDUS  14.777484\n",
      "5                      DIS  13.100940\n",
      "11           LANDMARK_Park   5.894636\n",
      "12  LANDMARK_Shopping Mall   5.480700\n",
      "0                     CRIM   1.948197\n",
      "13        LANDMARK_Stadium   1.791045\n",
      "9                 CHAS_yes   1.161228\n"
     ]
    }
   ],
   "source": [
    "from statsmodels.stats.outliers_influence import variance_inflation_factor as vif #import the VIF function\n",
    "from statsmodels.tools.tools import add_constant\n",
    "import statsmodels.api as sm\n",
    "\n",
    "# Create a copy of the data without the target variable\n",
    "X = BostonData.drop(columns=['MEDV'])\n",
    "\n",
    "# Convert categorical variables to dummy variables\n",
    "X = pd.get_dummies(X, columns=['CHAS', 'LANDMARK'], drop_first=True)\n",
    "\n",
    "# Convert boolean columns to int\n",
    "X = X.astype(float)\n",
    "\n",
    "# Calculate VIF for each variable\n",
    "VIF_data = pd.DataFrame()\n",
    "VIF_data[\"variable\"] = X.columns\n",
    "VIF_data[\"VIF\"] = [vif(X.values, i) for i in range(X.shape[1])]\n",
    "\n",
    "# Sort by VIF value in descending order\n",
    "VIF_data = VIF_data.sort_values('VIF', ascending=False)\n",
    "print(VIF_data)\n",
    "\n",
    "#he VIF results clearly show a multicollinearity problem\n",
    "#Variables like RM, PTRATIO, NOX, TAX have VIF values > 10, meaning they are strongly correlated with other predictors\n"
   ]
  },
  {
   "cell_type": "code",
   "execution_count": 28,
   "id": "d5b46c0e",
   "metadata": {},
   "outputs": [
    {
     "name": "stdout",
     "output_type": "stream",
     "text": [
      "                            OLS Regression Results                            \n",
      "==============================================================================\n",
      "Dep. Variable:                   MEDV   R-squared:                       0.637\n",
      "Model:                            OLS   Adj. R-squared:                  0.631\n",
      "Method:                 Least Squares   F-statistic:                     97.85\n",
      "Date:                Thu, 23 Oct 2025   Prob (F-statistic):           3.47e-93\n",
      "Time:                        12:24:13   Log-Likelihood:                -2787.0\n",
      "No. Observations:                 455   AIC:                             5592.\n",
      "Df Residuals:                     446   BIC:                             5629.\n",
      "Df Model:                           8                                         \n",
      "Covariance Type:            nonrobust                                         \n",
      "==========================================================================================\n",
      "                             coef    std err          t      P>|t|      [0.025      0.975]\n",
      "------------------------------------------------------------------------------------------\n",
      "const                    619.4215     38.327     16.161      0.000     544.097     694.746\n",
      "CRIM                      -4.2883      0.758     -5.657      0.000      -5.778      -2.798\n",
      "DIS                      -15.6473      4.408     -3.550      0.000     -24.311      -6.984\n",
      "RAD                        0.0160      0.868      0.018      0.985      -1.690       1.722\n",
      "AGE                       -1.1052      0.298     -3.705      0.000      -1.691      -0.519\n",
      "INDUS                     -6.1651      1.268     -4.861      0.000      -8.658      -3.672\n",
      "LANDMARK_Park            255.5610     18.662     13.694      0.000     218.884     292.238\n",
      "LANDMARK_Shopping Mall   117.1628     18.278      6.410      0.000      81.240     153.085\n",
      "LANDMARK_Stadium         570.8331     40.335     14.152      0.000     491.563     650.104\n",
      "==============================================================================\n",
      "Omnibus:                      333.297   Durbin-Watson:                   1.967\n",
      "Prob(Omnibus):                  0.000   Jarque-Bera (JB):             4678.048\n",
      "Skew:                           3.077   Prob(JB):                         0.00\n",
      "Kurtosis:                      17.453   Cond. No.                         616.\n",
      "==============================================================================\n",
      "\n",
      "Notes:\n",
      "[1] Standard Errors assume that the covariance matrix of the errors is correctly specified.\n",
      "\n",
      "Variance Inflation Factors (after cleaning):\n",
      "                 Variable        VIF\n",
      "0                   const  53.514416\n",
      "1                    CRIM   1.637216\n",
      "2                     DIS   3.046894\n",
      "3                     RAD   2.098639\n",
      "4                     AGE   2.555811\n",
      "5                   INDUS   2.800173\n",
      "6           LANDMARK_Park   1.262767\n",
      "7  LANDMARK_Shopping Mall   1.106102\n",
      "8        LANDMARK_Stadium   1.023768\n"
     ]
    },
    {
     "name": "stderr",
     "output_type": "stream",
     "text": [
      "C:\\Users\\patri\\AppData\\Local\\Temp\\ipykernel_15148\\1374549600.py:14: SettingWithCopyWarning: \n",
      "A value is trying to be set on a copy of a slice from a DataFrame.\n",
      "Try using .loc[row_indexer,col_indexer] = value instead\n",
      "\n",
      "See the caveats in the documentation: https://pandas.pydata.org/pandas-docs/stable/user_guide/indexing.html#returning-a-view-versus-a-copy\n",
      "  X[['LANDMARK_Park', 'LANDMARK_Shopping Mall', 'LANDMARK_Stadium']] = X[['LANDMARK_Park', 'LANDMARK_Shopping Mall', 'LANDMARK_Stadium']].astype(int)\n"
     ]
    }
   ],
   "source": [
    "from statsmodels.stats.outliers_influence import variance_inflation_factor as vif #import the VIF function\n",
    "from statsmodels.tools.tools import add_constant\n",
    "import statsmodels.api as sm\n",
    "\n",
    "y = BostonData['MEDV']\n",
    "\n",
    "# Create dummy variables for LANDMARK\n",
    "BostonData_dummies = pd.get_dummies(BostonData, columns=['LANDMARK'], drop_first=True)\n",
    "\n",
    "# Select relevant columns including dummies\n",
    "X = BostonData_dummies[['CRIM', 'DIS', 'RAD', 'AGE', 'INDUS', 'LANDMARK_Park', 'LANDMARK_Shopping Mall', 'LANDMARK_Stadium']]\n",
    "\n",
    "# Convert boolean columns to int\n",
    "X[['LANDMARK_Park', 'LANDMARK_Shopping Mall', 'LANDMARK_Stadium']] = X[['LANDMARK_Park', 'LANDMARK_Shopping Mall', 'LANDMARK_Stadium']].astype(int)\n",
    "\n",
    "# Add constant\n",
    "X = sm.add_constant(X)\n",
    "\n",
    "# Fit the reduced model\n",
    "model_reduced = sm.OLS(y, X).fit()\n",
    "print(model_reduced.summary())\n",
    "\n",
    "# Check new VIFs\n",
    "VIF_data = pd.DataFrame()\n",
    "VIF_data[\"Variable\"] = X.columns\n",
    "VIF_data[\"VIF\"] = [vif(X.values, i) for i in range(X.shape[1])]\n",
    "print(\"\\nVariance Inflation Factors (after cleaning):\")\n",
    "print(VIF_data)"
   ]
  }
 ],
 "metadata": {
  "kernelspec": {
   "display_name": "Python 3",
   "language": "python",
   "name": "python3"
  },
  "language_info": {
   "codemirror_mode": {
    "name": "ipython",
    "version": 3
   },
   "file_extension": ".py",
   "mimetype": "text/x-python",
   "name": "python",
   "nbconvert_exporter": "python",
   "pygments_lexer": "ipython3",
   "version": "3.13.9"
  }
 },
 "nbformat": 4,
 "nbformat_minor": 5
}
