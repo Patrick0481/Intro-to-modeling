{
 "cells": [
  {
   "cell_type": "code",
   "execution_count": 2,
   "metadata": {},
   "outputs": [
    {
     "data": {
      "application/vnd.microsoft.datawrangler.viewer.v0+json": {
       "columns": [
        {
         "name": "index",
         "rawType": "int64",
         "type": "integer"
        },
        {
         "name": "age",
         "rawType": "int64",
         "type": "integer"
        },
        {
         "name": "sex",
         "rawType": "object",
         "type": "string"
        },
        {
         "name": "bmi",
         "rawType": "float64",
         "type": "float"
        },
        {
         "name": "children",
         "rawType": "int64",
         "type": "integer"
        },
        {
         "name": "smoker",
         "rawType": "object",
         "type": "string"
        },
        {
         "name": "region",
         "rawType": "object",
         "type": "string"
        },
        {
         "name": "charges",
         "rawType": "float64",
         "type": "float"
        }
       ],
       "ref": "312e5e03-1e40-4102-a7d4-9260d6f00486",
       "rows": [
        [
         "0",
         "19",
         "female",
         "27.9",
         "0",
         "yes",
         "southwest",
         "16884.924"
        ],
        [
         "1",
         "18",
         "male",
         "33.77",
         "1",
         "no",
         "southeast",
         "1725.5523"
        ],
        [
         "2",
         "28",
         "male",
         "33.0",
         "3",
         "no",
         "southeast",
         "4449.462"
        ],
        [
         "3",
         "33",
         "male",
         "22.705",
         "0",
         "no",
         "northwest",
         "21984.47061"
        ],
        [
         "4",
         "32",
         "male",
         "28.88",
         "0",
         "no",
         "northwest",
         "3866.8552"
        ]
       ],
       "shape": {
        "columns": 7,
        "rows": 5
       }
      },
      "text/html": [
       "<div>\n",
       "<style scoped>\n",
       "    .dataframe tbody tr th:only-of-type {\n",
       "        vertical-align: middle;\n",
       "    }\n",
       "\n",
       "    .dataframe tbody tr th {\n",
       "        vertical-align: top;\n",
       "    }\n",
       "\n",
       "    .dataframe thead th {\n",
       "        text-align: right;\n",
       "    }\n",
       "</style>\n",
       "<table border=\"1\" class=\"dataframe\">\n",
       "  <thead>\n",
       "    <tr style=\"text-align: right;\">\n",
       "      <th></th>\n",
       "      <th>age</th>\n",
       "      <th>sex</th>\n",
       "      <th>bmi</th>\n",
       "      <th>children</th>\n",
       "      <th>smoker</th>\n",
       "      <th>region</th>\n",
       "      <th>charges</th>\n",
       "    </tr>\n",
       "  </thead>\n",
       "  <tbody>\n",
       "    <tr>\n",
       "      <th>0</th>\n",
       "      <td>19</td>\n",
       "      <td>female</td>\n",
       "      <td>27.900</td>\n",
       "      <td>0</td>\n",
       "      <td>yes</td>\n",
       "      <td>southwest</td>\n",
       "      <td>16884.92400</td>\n",
       "    </tr>\n",
       "    <tr>\n",
       "      <th>1</th>\n",
       "      <td>18</td>\n",
       "      <td>male</td>\n",
       "      <td>33.770</td>\n",
       "      <td>1</td>\n",
       "      <td>no</td>\n",
       "      <td>southeast</td>\n",
       "      <td>1725.55230</td>\n",
       "    </tr>\n",
       "    <tr>\n",
       "      <th>2</th>\n",
       "      <td>28</td>\n",
       "      <td>male</td>\n",
       "      <td>33.000</td>\n",
       "      <td>3</td>\n",
       "      <td>no</td>\n",
       "      <td>southeast</td>\n",
       "      <td>4449.46200</td>\n",
       "    </tr>\n",
       "    <tr>\n",
       "      <th>3</th>\n",
       "      <td>33</td>\n",
       "      <td>male</td>\n",
       "      <td>22.705</td>\n",
       "      <td>0</td>\n",
       "      <td>no</td>\n",
       "      <td>northwest</td>\n",
       "      <td>21984.47061</td>\n",
       "    </tr>\n",
       "    <tr>\n",
       "      <th>4</th>\n",
       "      <td>32</td>\n",
       "      <td>male</td>\n",
       "      <td>28.880</td>\n",
       "      <td>0</td>\n",
       "      <td>no</td>\n",
       "      <td>northwest</td>\n",
       "      <td>3866.85520</td>\n",
       "    </tr>\n",
       "  </tbody>\n",
       "</table>\n",
       "</div>"
      ],
      "text/plain": [
       "   age     sex     bmi  children smoker     region      charges\n",
       "0   19  female  27.900         0    yes  southwest  16884.92400\n",
       "1   18    male  33.770         1     no  southeast   1725.55230\n",
       "2   28    male  33.000         3     no  southeast   4449.46200\n",
       "3   33    male  22.705         0     no  northwest  21984.47061\n",
       "4   32    male  28.880         0     no  northwest   3866.85520"
      ]
     },
     "execution_count": 2,
     "metadata": {},
     "output_type": "execute_result"
    }
   ],
   "source": [
    "#import modules and load the data\n",
    "import pandas as pd\n",
    "from sklearn.model_selection import RepeatedKFold\n",
    "from sklearn.linear_model import LinearRegression\n",
    "from sklearn.model_selection import cross_val_score\n",
    "from numpy import mean\n",
    "from numpy import absolute\n",
    "from sklearn.preprocessing import MinMaxScaler\n",
    "\n",
    "url = 'https://raw.githubusercontent.com/Patrick0481/Intro-to-modeling/refs/heads/main/insurance.csv'\n",
    "df = pd.read_csv(url)\n",
    "df.head()"
   ]
  },
  {
   "cell_type": "code",
   "execution_count": 3,
   "metadata": {},
   "outputs": [],
   "source": [
    "#Prepare the data\n",
    "df = df.dropna() #remove missings\n",
    "y = df['charges'] #select Target\n",
    "X = df.drop('charges',axis=1) #Select features\n",
    "X = pd.get_dummies(X, drop_first=True) #Turn sex, smoker, and region into dummy variables\n"
   ]
  },
  {
   "cell_type": "code",
   "execution_count": 6,
   "metadata": {},
   "outputs": [
    {
     "name": "stdout",
     "output_type": "stream",
     "text": [
      "the average prediction error with full data is: 4213\n"
     ]
    }
   ],
   "source": [
    "#Prediction with all features\n",
    "#define the cross-validation\n",
    "cv = RepeatedKFold(n_splits=5, #splits the data into 5 folds\n",
    "                   random_state=420) #adding a number here ensures it will be the same each time\n",
    "\n",
    "#predict with linear regression\n",
    "lm = LinearRegression()\n",
    "lmscores = cross_val_score(lm, X, y, #these define the type of model, features, and target\n",
    "                           scoring='neg_mean_absolute_error', #test using mean absolute deviation\n",
    "                           cv=cv) #this loads the cross validation we wrote above\n",
    "\n",
    "\n",
    "lmMAE = mean(absolute(lmscores)) #Calculate the overall mean absolute error\n",
    "print('the average prediction error with full data is: %.0f' % lmMAE) #Print the result"
   ]
  },
  {
   "cell_type": "code",
   "execution_count": 5,
   "metadata": {},
   "outputs": [
    {
     "name": "stdout",
     "output_type": "stream",
     "text": [
      "the average prediction error will cut data is: 4209\n"
     ]
    }
   ],
   "source": [
    "#In class exercise 1\n",
    "\n",
    "#Model without the sex variable\n",
    "Xnosex = X.drop('sex_male',axis=1) #drop the sex variable\n",
    "lmscoresnc = cross_val_score(lm, Xnosex, y, #these define the type of model, features, and target\n",
    "                           scoring='neg_mean_absolute_error', #test using mean absolute deviation\n",
    "                           cv=cv) #this loads the cross validation we wrote above\n",
    "\n",
    "#Calculate the Mean Average Error\n",
    "lmMAEnc = mean(absolute(lmscoresnc)) #Calculate the overall mean absolute error\n",
    "print('the average prediction error will cut data is: %.0f' % lmMAEnc) #Print the result"
   ]
  },
  {
   "cell_type": "code",
   "execution_count": 16,
   "metadata": {},
   "outputs": [],
   "source": [
    "#Lasso and Ridge: step 1 normalizing the data\n",
    "columns = X.columns #create index with column names (needed for last step)\n",
    "scaler = MinMaxScaler() #initiate the scaler\n",
    "X = scaler.fit_transform(X) #scale the data\n",
    "X = pd.DataFrame(X,columns=columns) #turn back into a dataframe"
   ]
  },
  {
   "cell_type": "code",
   "execution_count": 17,
   "metadata": {},
   "outputs": [
    {
     "name": "stdout",
     "output_type": "stream",
     "text": [
      "the average prediction error with linear regression was: 4213\n",
      "the average prediction error with lasso is: 4200\n",
      "the average prediction error with ridge is: 4223\n"
     ]
    }
   ],
   "source": [
    "from sklearn.linear_model import Lasso\n",
    "from sklearn.linear_model import Ridge\n",
    "LassoModel = Lasso(alpha=10)\n",
    "RidgeModel = Ridge(alpha=10)\n",
    "\n",
    "#Run the cross fold validation again (same as earlier)\n",
    "scoreslasso = cross_val_score(LassoModel, X, y, scoring='neg_mean_absolute_error', cv=cv) \n",
    "scoresridge = cross_val_score(RidgeModel, X, y, scoring='neg_mean_absolute_error', cv=cv) \n",
    "\n",
    "#Evaluate the model\n",
    "print('the average prediction error with linear regression was: 4213')\n",
    "lassoMAE = mean(absolute(scoreslasso)) #Calculate the overall mean absolute error\n",
    "print('the average prediction error with lasso is: %.0f' % lassoMAE) #Print the result\n",
    "ridgeMAE = mean(absolute(scoresridge)) #Calculate the overall mean absolute error\n",
    "print('the average prediction error with ridge is: %.0f' % ridgeMAE) #Print the result"
   ]
  }
 ],
 "metadata": {
  "kernelspec": {
   "display_name": "Python 3",
   "language": "python",
   "name": "python3"
  },
  "language_info": {
   "codemirror_mode": {
    "name": "ipython",
    "version": 3
   },
   "file_extension": ".py",
   "mimetype": "text/x-python",
   "name": "python",
   "nbconvert_exporter": "python",
   "pygments_lexer": "ipython3",
   "version": "3.13.7"
  }
 },
 "nbformat": 4,
 "nbformat_minor": 4
}
