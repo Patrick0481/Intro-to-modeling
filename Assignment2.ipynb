{
 "cells": [
  {
   "cell_type": "markdown",
   "id": "7106d776",
   "metadata": {},
   "source": [
    "Assignment 2"
   ]
  },
  {
   "cell_type": "code",
   "execution_count": 1,
   "id": "448e9f87",
   "metadata": {},
   "outputs": [],
   "source": [
    "import pandas as pd\n",
    "import statsmodels.formula.api as sm \n",
    "\n",
    "url = \"https://raw.githubusercontent.com/Patrick0481/Intro-to-modeling/refs/heads/main/1654308boston.csv\"\n",
    "BostonData = pd.read_csv(url)\n",
    "#print(BostonData.head()) "
   ]
  },
  {
   "cell_type": "code",
   "execution_count": null,
   "id": "b414c2d5",
   "metadata": {},
   "outputs": [
    {
     "name": "stdout",
     "output_type": "stream",
     "text": [
      "                            OLS Regression Results                            \n",
      "==============================================================================\n",
      "Dep. Variable:                   MEDV   R-squared:                       0.527\n",
      "Model:                            OLS   Adj. R-squared:                  0.525\n",
      "Method:                 Least Squares   F-statistic:                     252.2\n",
      "Date:                Thu, 23 Oct 2025   Prob (F-statistic):           2.74e-74\n",
      "Time:                        14:56:11   Log-Likelihood:                -2847.1\n",
      "No. Observations:                 455   AIC:                             5700.\n",
      "Df Residuals:                     452   BIC:                             5712.\n",
      "Df Model:                           2                                         \n",
      "Covariance Type:            nonrobust                                         \n",
      "==============================================================================\n",
      "                 coef    std err          t      P>|t|      [0.025      0.975]\n",
      "------------------------------------------------------------------------------\n",
      "const       -565.3050     55.367    -10.210      0.000    -674.114    -456.496\n",
      "CRIM          -5.3315      0.686     -7.766      0.000      -6.681      -3.982\n",
      "RM           164.7912      8.671     19.006      0.000     147.751     181.831\n",
      "==============================================================================\n",
      "Omnibus:                      160.548   Durbin-Watson:                   1.918\n",
      "Prob(Omnibus):                  0.000   Jarque-Bera (JB):              971.148\n",
      "Skew:                           1.389   Prob(JB):                    1.31e-211\n",
      "Kurtosis:                       9.596   Cond. No.                         94.5\n",
      "==============================================================================\n",
      "\n",
      "Notes:\n",
      "[1] Standard Errors assume that the covariance matrix of the errors is correctly specified.\n"
     ]
    }
   ],
   "source": [
    "import pandas as pd\n",
    "import statsmodels.api as sm\n",
    "\n",
    "y = BostonData['MEDV']\n",
    "X1 = BostonData[['RM']]\n",
    "X2 = BostonData[['CRIM']]   \n",
    "X3 = BostonData[['CRIM', 'RM']]\n",
    "\n",
    "X1 = sm.add_constant(X1)\n",
    "X2 = sm.add_constant(X2)\n",
    "X3 = sm.add_constant(X3)\n",
    "\n",
    "model4 = sm.OLS(y, X1).fit()\n",
    "#print(model4.summary())  #Looking at RM alone shows a strong relationship with MEDV, as indicated by a high R-squared value and a significant p-value for the predictor.\n",
    "\n",
    "model5 = sm.OLS(y, X2).fit()\n",
    "#print(model5.summary()) #Looking at CRIM alone shows a weaker relationship with MEDV, as indicated by a lower R-squared value and a less significant p-value for the predictor.\n",
    "\n",
    "model6 = sm.OLS(y, X3).fit()\n",
    "print(model6.summary())  #Looking at both CRIM and RM together provides a better model fit, as indicated by a higher R-squared value and more significant p-values for the predictors."
   ]
  }
 ],
 "metadata": {
  "kernelspec": {
   "display_name": "Python 3",
   "language": "python",
   "name": "python3"
  },
  "language_info": {
   "codemirror_mode": {
    "name": "ipython",
    "version": 3
   },
   "file_extension": ".py",
   "mimetype": "text/x-python",
   "name": "python",
   "nbconvert_exporter": "python",
   "pygments_lexer": "ipython3",
   "version": "3.13.9"
  }
 },
 "nbformat": 4,
 "nbformat_minor": 5
}
