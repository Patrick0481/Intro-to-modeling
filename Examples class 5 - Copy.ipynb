{
 "cells": [
  {
   "cell_type": "code",
   "execution_count": null,
   "metadata": {},
   "outputs": [],
   "source": [
    "%pip install tensorflow"
   ]
  },
  {
   "cell_type": "code",
   "execution_count": 6,
   "metadata": {},
   "outputs": [
    {
     "data": {
      "application/vnd.microsoft.datawrangler.viewer.v0+json": {
       "columns": [
        {
         "name": "index",
         "rawType": "int64",
         "type": "integer"
        },
        {
         "name": "age",
         "rawType": "int64",
         "type": "integer"
        },
        {
         "name": "sex",
         "rawType": "object",
         "type": "string"
        },
        {
         "name": "bmi",
         "rawType": "float64",
         "type": "float"
        },
        {
         "name": "children",
         "rawType": "int64",
         "type": "integer"
        },
        {
         "name": "smoker",
         "rawType": "object",
         "type": "string"
        },
        {
         "name": "region",
         "rawType": "object",
         "type": "string"
        },
        {
         "name": "charges",
         "rawType": "float64",
         "type": "float"
        }
       ],
       "ref": "344e1ce9-56b3-42dc-8bd9-100c8cd1b50c",
       "rows": [
        [
         "0",
         "19",
         "female",
         "27.9",
         "0",
         "yes",
         "southwest",
         "16884.924"
        ],
        [
         "1",
         "18",
         "male",
         "33.77",
         "1",
         "no",
         "southeast",
         "1725.5523"
        ],
        [
         "2",
         "28",
         "male",
         "33.0",
         "3",
         "no",
         "southeast",
         "4449.462"
        ],
        [
         "3",
         "33",
         "male",
         "22.705",
         "0",
         "no",
         "northwest",
         "21984.47061"
        ],
        [
         "4",
         "32",
         "male",
         "28.88",
         "0",
         "no",
         "northwest",
         "3866.8552"
        ]
       ],
       "shape": {
        "columns": 7,
        "rows": 5
       }
      },
      "text/html": [
       "<div>\n",
       "<style scoped>\n",
       "    .dataframe tbody tr th:only-of-type {\n",
       "        vertical-align: middle;\n",
       "    }\n",
       "\n",
       "    .dataframe tbody tr th {\n",
       "        vertical-align: top;\n",
       "    }\n",
       "\n",
       "    .dataframe thead th {\n",
       "        text-align: right;\n",
       "    }\n",
       "</style>\n",
       "<table border=\"1\" class=\"dataframe\">\n",
       "  <thead>\n",
       "    <tr style=\"text-align: right;\">\n",
       "      <th></th>\n",
       "      <th>age</th>\n",
       "      <th>sex</th>\n",
       "      <th>bmi</th>\n",
       "      <th>children</th>\n",
       "      <th>smoker</th>\n",
       "      <th>region</th>\n",
       "      <th>charges</th>\n",
       "    </tr>\n",
       "  </thead>\n",
       "  <tbody>\n",
       "    <tr>\n",
       "      <th>0</th>\n",
       "      <td>19</td>\n",
       "      <td>female</td>\n",
       "      <td>27.900</td>\n",
       "      <td>0</td>\n",
       "      <td>yes</td>\n",
       "      <td>southwest</td>\n",
       "      <td>16884.92400</td>\n",
       "    </tr>\n",
       "    <tr>\n",
       "      <th>1</th>\n",
       "      <td>18</td>\n",
       "      <td>male</td>\n",
       "      <td>33.770</td>\n",
       "      <td>1</td>\n",
       "      <td>no</td>\n",
       "      <td>southeast</td>\n",
       "      <td>1725.55230</td>\n",
       "    </tr>\n",
       "    <tr>\n",
       "      <th>2</th>\n",
       "      <td>28</td>\n",
       "      <td>male</td>\n",
       "      <td>33.000</td>\n",
       "      <td>3</td>\n",
       "      <td>no</td>\n",
       "      <td>southeast</td>\n",
       "      <td>4449.46200</td>\n",
       "    </tr>\n",
       "    <tr>\n",
       "      <th>3</th>\n",
       "      <td>33</td>\n",
       "      <td>male</td>\n",
       "      <td>22.705</td>\n",
       "      <td>0</td>\n",
       "      <td>no</td>\n",
       "      <td>northwest</td>\n",
       "      <td>21984.47061</td>\n",
       "    </tr>\n",
       "    <tr>\n",
       "      <th>4</th>\n",
       "      <td>32</td>\n",
       "      <td>male</td>\n",
       "      <td>28.880</td>\n",
       "      <td>0</td>\n",
       "      <td>no</td>\n",
       "      <td>northwest</td>\n",
       "      <td>3866.85520</td>\n",
       "    </tr>\n",
       "  </tbody>\n",
       "</table>\n",
       "</div>"
      ],
      "text/plain": [
       "   age     sex     bmi  children smoker     region      charges\n",
       "0   19  female  27.900         0    yes  southwest  16884.92400\n",
       "1   18    male  33.770         1     no  southeast   1725.55230\n",
       "2   28    male  33.000         3     no  southeast   4449.46200\n",
       "3   33    male  22.705         0     no  northwest  21984.47061\n",
       "4   32    male  28.880         0     no  northwest   3866.85520"
      ]
     },
     "execution_count": 6,
     "metadata": {},
     "output_type": "execute_result"
    }
   ],
   "source": [
    "#import modules and load the data\n",
    "import pandas as pd\n",
    "import numpy as np\n",
    "from sklearn.model_selection import RepeatedKFold\n",
    "from sklearn.model_selection import cross_val_score\n",
    "from numpy import mean\n",
    "from numpy import absolute\n",
    "from sklearn.linear_model import Lasso\n",
    "from sklearn.linear_model import Ridge\n",
    "from sklearn.preprocessing import MinMaxScaler\n",
    "from sklearn.model_selection import GridSearchCV\n",
    "#import tensorflow as tf\n",
    "#from scikeras.wrappers import KerasRegressor\n",
    "from sklearn.model_selection import RandomizedSearchCV\n",
    "\n",
    "url = 'https://github.com/Patrick0481/Intro-to-modeling/raw/refs/heads/main/insurance.csv'\n",
    "df = pd.read_csv(url)\n",
    "df.head()"
   ]
  },
  {
   "cell_type": "code",
   "execution_count": 7,
   "metadata": {},
   "outputs": [],
   "source": [
    "#Prepare the data\n",
    "df = df.dropna() #remove missings\n",
    "y = df['charges'] #select Target\n",
    "X = df.drop('charges',axis=1) #Select features\n",
    "X = pd.get_dummies(X, drop_first=True) #Turn Fuel_Type into dummy variables\n",
    "columns = X.columns #create index with column names (needed for last step)\n",
    "scaler = MinMaxScaler() #initiate the scaler\n",
    "X = scaler.fit_transform(X) #scale the data\n",
    "X = pd.DataFrame(X,columns=columns) #turn back into a dataframe"
   ]
  },
  {
   "cell_type": "code",
   "execution_count": 8,
   "metadata": {},
   "outputs": [
    {
     "name": "stdout",
     "output_type": "stream",
     "text": [
      "Best alpha:  82.0\n"
     ]
    }
   ],
   "source": [
    "#grid search with Lasso\n",
    "alpha_range = np.arange(start=1,stop=100,step=0.5) #define a range of 100 alpha values\n",
    "\n",
    "#define the aspects of the grid search\n",
    "cv = RepeatedKFold(n_splits=5, random_state=420) #define the cross validation\n",
    "param = {'alpha':alpha_range} #create a dictionary that contains the range of alpha values\n",
    "LassoModel = Lasso() #define the model\n",
    "\n",
    "#create the grid search\n",
    "LassoM = GridSearchCV(LassoModel, #the lasso model we defined above\n",
    "                      param_grid=param, #the alpha values we defined above\n",
    "                      scoring ='neg_mean_absolute_error', #use MAE as measure of fit\n",
    "                      cv=cv) #the cross validation we defined above\n",
    "LassoM.fit(X,y)# Fit the random search model\n",
    "print(\"Best alpha: \", LassoM.best_params_['alpha']) #print out the best parameter"
   ]
  },
  {
   "cell_type": "code",
   "execution_count": 9,
   "metadata": {},
   "outputs": [
    {
     "name": "stdout",
     "output_type": "stream",
     "text": [
      "Best alpha:  4.200000000000003\n"
     ]
    }
   ],
   "source": [
    "#Exercise 1.1: Ridge grid search\n",
    "#grid search with Ridge\n",
    "alpha_range = np.arange(start=1,stop=5,step=0.1) #define a range of 100 alpha values\n",
    "\n",
    "#define the aspects of the grid search\n",
    "cv = RepeatedKFold(n_splits=5, random_state=420) #define the cross validation\n",
    "param = {'alpha':alpha_range} #create a dictionary that contains the range of alpha values\n",
    "RidgeModel = Ridge() #define the model\n",
    "\n",
    "#create the grid search\n",
    "RidgeM = GridSearchCV(RidgeModel, #the lasso model we defined above\n",
    "                      param_grid=param, #the alpha values we defined above\n",
    "                      scoring ='neg_mean_absolute_error', #use MAE as measure of fit\n",
    "                      cv=cv) #the cross validation we defined above\n",
    "RidgeM.fit(X,y)# Fit the random search model\n",
    "print(\"Best alpha: \", RidgeM.best_params_['alpha']) #print out the best parameter"
   ]
  },
  {
   "cell_type": "code",
   "execution_count": 10,
   "metadata": {},
   "outputs": [
    {
     "name": "stdout",
     "output_type": "stream",
     "text": [
      "the average prediction error of linear regression was 4210\n",
      "the average prediction error with lasso is: 4155\n",
      "the average prediction error with ridge is: 4194\n"
     ]
    }
   ],
   "source": [
    "#Exercise 1.2\n",
    "LassoModel = Lasso(alpha=82)\n",
    "RidgeModel = Ridge(alpha=4.2)\n",
    "\n",
    "#Run the cross fold validation again (same as earlier)\n",
    "cv = RepeatedKFold(n_splits=5, random_state=420)\n",
    "scoreslasso = cross_val_score(LassoModel, X, y, scoring='neg_mean_absolute_error', cv=cv) \n",
    "scoresridge = cross_val_score(RidgeModel, X, y, scoring='neg_mean_absolute_error', cv=cv) \n",
    "\n",
    "#Evaluate the model\n",
    "print('the average prediction error of linear regression was 4210')\n",
    "lassoMAE = mean(absolute(scoreslasso)) #Calculate the overall mean absolute error\n",
    "print('the average prediction error with lasso is: %.0f' % lassoMAE) #Print the result\n",
    "ridgeMAE = mean(absolute(scoresridge)) #Calculate the overall mean absolute error\n",
    "print('the average prediction error with ridge is: %.0f' % ridgeMAE) #Print the result\n"
   ]
  },
  {
   "cell_type": "code",
   "execution_count": 7,
   "metadata": {},
   "outputs": [
    {
     "name": "stderr",
     "output_type": "stream",
     "text": [
      "c:\\Users\\Tijmen\\anaconda3\\envs\\env2526\\Lib\\site-packages\\scikeras\\wrappers.py:925: UserWarning: ``build_fn`` will be renamed to ``model`` in a future release, at which point use of ``build_fn`` will raise an Error instead.\n",
      "  X, y = self._initialize(X, y)\n",
      "c:\\Users\\Tijmen\\anaconda3\\envs\\env2526\\Lib\\site-packages\\scikeras\\wrappers.py:925: UserWarning: ``build_fn`` will be renamed to ``model`` in a future release, at which point use of ``build_fn`` will raise an Error instead.\n",
      "  X, y = self._initialize(X, y)\n",
      "c:\\Users\\Tijmen\\anaconda3\\envs\\env2526\\Lib\\site-packages\\scikeras\\wrappers.py:925: UserWarning: ``build_fn`` will be renamed to ``model`` in a future release, at which point use of ``build_fn`` will raise an Error instead.\n",
      "  X, y = self._initialize(X, y)\n",
      "c:\\Users\\Tijmen\\anaconda3\\envs\\env2526\\Lib\\site-packages\\scikeras\\wrappers.py:925: UserWarning: ``build_fn`` will be renamed to ``model`` in a future release, at which point use of ``build_fn`` will raise an Error instead.\n",
      "  X, y = self._initialize(X, y)\n",
      "c:\\Users\\Tijmen\\anaconda3\\envs\\env2526\\Lib\\site-packages\\scikeras\\wrappers.py:925: UserWarning: ``build_fn`` will be renamed to ``model`` in a future release, at which point use of ``build_fn`` will raise an Error instead.\n",
      "  X, y = self._initialize(X, y)\n"
     ]
    },
    {
     "name": "stdout",
     "output_type": "stream",
     "text": [
      "the average prediction error is: 3157\n"
     ]
    }
   ],
   "source": [
    "#Neural network with cross validation\n",
    "\n",
    "#First define a function that contains the neural network model\n",
    "def create_baseline():\n",
    "    # create model\n",
    "    nnmodel = tf.keras.models.Sequential([\n",
    "        tf.keras.layers.Input(shape=(X.shape[1],)),  # Input layer \n",
    "        tf.keras.layers.Dense(64, activation='softplus'), #hidden layer\n",
    "        tf.keras.layers.Dense(64, activation='softplus'), #hidden layer\n",
    "        tf.keras.layers.Dense(64, activation='softplus'), #hidden layer\n",
    "        tf.keras.layers.Dense(1)  # Output layer\n",
    "    ])\n",
    "    # Compile model\n",
    "    nnmodel.compile(loss='mean_absolute_error', #loss is calculated with MAE\n",
    "                    optimizer='adam', #type of gradient descent\n",
    "                    metrics=['mae']) #use MAE to evaluate the model\n",
    "    return nnmodel\n",
    "\n",
    "# evaluate model \n",
    "\n",
    "#define the estimator\n",
    "estimator = KerasRegressor(build_fn=create_baseline, #you have to use the kerasRegressor wrapper for nn models\n",
    "                           epochs=100, batch_size=5, #100 epochs and 5 batches\n",
    "                           verbose=0) #this will shorten the output text\n",
    "#Define the kfold function\n",
    "kfold = RepeatedKFold(n_splits=5, n_repeats=1, random_state=42) #I'm using just 5 splits and 1 repeat to save time, but more splits and repeats will be more accurate\n",
    "#Generate the results\n",
    "results = cross_val_score(estimator, X, y, cv=kfold,scoring='neg_mean_absolute_error')\n",
    "#Print the results\n",
    "print('the average prediction error is: %.0f' % mean(absolute(results)))"
   ]
  },
  {
   "cell_type": "code",
   "execution_count": 14,
   "metadata": {},
   "outputs": [
    {
     "name": "stdout",
     "output_type": "stream",
     "text": [
      "WARNING:tensorflow:5 out of the last 60 calls to <function TensorFlowTrainer.make_predict_function.<locals>.one_step_on_data_distributed at 0x0000029557253F60> triggered tf.function retracing. Tracing is expensive and the excessive number of tracings could be due to (1) creating @tf.function repeatedly in a loop, (2) passing tensors with different shapes, (3) passing Python objects instead of tensors. For (1), please define your @tf.function outside of the loop. For (2), @tf.function has reduce_retracing=True option that can avoid unnecessary retracing. For (3), please refer to https://www.tensorflow.org/guide/function#controlling_retracing and https://www.tensorflow.org/api_docs/python/tf/function for  more details.\n",
      "WARNING:tensorflow:5 out of the last 11 calls to <function TensorFlowTrainer.make_predict_function.<locals>.one_step_on_data_distributed at 0x0000029557253F60> triggered tf.function retracing. Tracing is expensive and the excessive number of tracings could be due to (1) creating @tf.function repeatedly in a loop, (2) passing tensors with different shapes, (3) passing Python objects instead of tensors. For (1), please define your @tf.function outside of the loop. For (2), @tf.function has reduce_retracing=True option that can avoid unnecessary retracing. For (3), please refer to https://www.tensorflow.org/guide/function#controlling_retracing and https://www.tensorflow.org/api_docs/python/tf/function for  more details.\n",
      "Best parameters found:  {'n_units': 512, 'n_layers': 4, 'epochs': 100, 'batch_size': 32, 'activation': 'elu'}\n"
     ]
    }
   ],
   "source": [
    "#Hyperparameter tuning (warning: takes at least 18 minutes to run)\n",
    "# Define the function to create the model\n",
    "def build_model(n_layers=3, n_units=64, activation='softplus'): #start with some inital parameters\n",
    "    nnmodel = tf.keras.models.Sequential() #define the model\n",
    "    nnmodel.add(tf.keras.layers.Input(shape=(X.shape[1],)))  # Input layer\n",
    "\n",
    "    for _ in range(n_layers): #create a for loop that goes through the number of layers, number of units, and activation types\n",
    "        nnmodel.add(tf.keras.layers.Dense(n_units, activation=activation))\n",
    "    \n",
    "    nnmodel.add(tf.keras.layers.Dense(1))  # Output layer\n",
    "    nnmodel.compile(loss='mean_absolute_error', optimizer='adam', metrics=['mae']) #compile the model and use mean absolute error as measure of fit\n",
    "    return nnmodel\n",
    "\n",
    "model = KerasRegressor(model=build_model, #for some reason you have to put the parameter distribution in here, otherwise it will give an error\n",
    "                       n_layers=[1, 2, 3, 4, 5], #Number of hidden layers\n",
    "                       n_units=[32, 64, 128, 256, 512], #Number of nodes per hidden layer\n",
    "                       activation=['relu', 'tanh', 'softplus', 'elu'], #activation function\n",
    "                       epochs=[50, 100, 150, 200], #number of epochs\n",
    "                       batch_size=[16, 32, 64], #number of batches\n",
    "                       verbose = 0) #this will shorten the output\n",
    "\n",
    "param_dist = { #overview of the parameter distribution (this is the same as above)\n",
    "    'n_layers': [1, 2, 3, 4, 5],\n",
    "    'n_units': [32, 64, 128, 256, 512],\n",
    "    'activation': ['relu', 'tanh', 'softplus', 'elu'],\n",
    "    'epochs': [50, 100, 150, 200],\n",
    "    'batch_size': [16, 32, 64]\n",
    "}\n",
    "\n",
    "random_search = RandomizedSearchCV(estimator=model, #randomly search through the grid\n",
    "                                   param_distributions=param_dist,\n",
    "                                    n_iter=10, #number of parameter combinations that are randomly chosen\n",
    "                                      cv=5, #evaluate the output using 5-fold cross validation \n",
    "                                    random_state=42) #set a random seed so that the results will be the same each time\n",
    "\n",
    "random_search.fit(X, y) #train the models\n",
    "print(\"Best parameters found: \", random_search.best_params_) #print the best parameters"
   ]
  },
  {
   "cell_type": "code",
   "execution_count": 15,
   "metadata": {},
   "outputs": [
    {
     "name": "stderr",
     "output_type": "stream",
     "text": [
      "c:\\Users\\Tijmen\\anaconda3\\envs\\env2526\\Lib\\site-packages\\scikeras\\wrappers.py:925: UserWarning: ``build_fn`` will be renamed to ``model`` in a future release, at which point use of ``build_fn`` will raise an Error instead.\n",
      "  X, y = self._initialize(X, y)\n",
      "c:\\Users\\Tijmen\\anaconda3\\envs\\env2526\\Lib\\site-packages\\scikeras\\wrappers.py:925: UserWarning: ``build_fn`` will be renamed to ``model`` in a future release, at which point use of ``build_fn`` will raise an Error instead.\n",
      "  X, y = self._initialize(X, y)\n",
      "c:\\Users\\Tijmen\\anaconda3\\envs\\env2526\\Lib\\site-packages\\scikeras\\wrappers.py:925: UserWarning: ``build_fn`` will be renamed to ``model`` in a future release, at which point use of ``build_fn`` will raise an Error instead.\n",
      "  X, y = self._initialize(X, y)\n",
      "c:\\Users\\Tijmen\\anaconda3\\envs\\env2526\\Lib\\site-packages\\scikeras\\wrappers.py:925: UserWarning: ``build_fn`` will be renamed to ``model`` in a future release, at which point use of ``build_fn`` will raise an Error instead.\n",
      "  X, y = self._initialize(X, y)\n",
      "c:\\Users\\Tijmen\\anaconda3\\envs\\env2526\\Lib\\site-packages\\scikeras\\wrappers.py:925: UserWarning: ``build_fn`` will be renamed to ``model`` in a future release, at which point use of ``build_fn`` will raise an Error instead.\n",
      "  X, y = self._initialize(X, y)\n"
     ]
    },
    {
     "name": "stdout",
     "output_type": "stream",
     "text": [
      "the average prediction error is: 2085\n"
     ]
    }
   ],
   "source": [
    "#Exercise 2\n",
    "\n",
    "#cross validation with the best parameters\n",
    "def create_baseline():\n",
    "    # create model\n",
    "    nnmodel = tf.keras.models.Sequential([\n",
    "        tf.keras.layers.Input(shape=(X.shape[1],)),  # Input layer (the shape parts counts how many features you have)\n",
    "        tf.keras.layers.Dense(512, activation='elu'), #hidden layer\n",
    "        tf.keras.layers.Dense(512, activation='elu'), #hidden layer\n",
    "        tf.keras.layers.Dense(512, activation='elu'), #hidden layer\n",
    "        tf.keras.layers.Dense(512, activation='elu'), #hidden layer\n",
    "        tf.keras.layers.Dense(1)  # Output layer\n",
    "    ])\n",
    "    # Compile model\n",
    "    nnmodel.compile(loss='mean_absolute_error', optimizer='adam', metrics=['mae']) #compile the model based \n",
    "    return nnmodel\n",
    "# evaluate model  (note if you get an error, upgrade the packages! module not found keras.api_v2 error was because of tensorflow!)\n",
    "estimator = KerasRegressor(build_fn=create_baseline, epochs=100, batch_size=32,verbose=0) #you have to use the kerasRegressor wrapper for nn models\n",
    "kfold = RepeatedKFold(n_splits=5, n_repeats = 1) #I'm using just 5 splits and 1 repeat to save time, but more splits and repeats will be more accurate\n",
    "results = cross_val_score(estimator, X, y, cv=kfold,scoring='neg_mean_absolute_error') #create the results of the cross validation\n",
    "print('the average prediction error is: %.0f' % mean(absolute(results))) #print the average error"
   ]
  }
 ],
 "metadata": {
  "kernelspec": {
   "display_name": "Python 3",
   "language": "python",
   "name": "python3"
  },
  "language_info": {
   "codemirror_mode": {
    "name": "ipython",
    "version": 3
   },
   "file_extension": ".py",
   "mimetype": "text/x-python",
   "name": "python",
   "nbconvert_exporter": "python",
   "pygments_lexer": "ipython3",
   "version": "3.13.7"
  }
 },
 "nbformat": 4,
 "nbformat_minor": 4
}
