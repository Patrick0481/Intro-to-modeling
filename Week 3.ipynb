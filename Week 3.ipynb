{
 "cells": [
  {
   "cell_type": "markdown",
   "id": "9254fe34",
   "metadata": {},
   "source": [
    "INTRODUCTION\n",
    "TO MODELLING\n",
    "CLASS 3: CATEGORICAL PREDICTORS AND STANDARDIZATION"
   ]
  },
  {
   "cell_type": "code",
   "execution_count": null,
   "id": "061807bf",
   "metadata": {},
   "outputs": [],
   "source": []
  }
 ],
 "metadata": {
  "language_info": {
   "name": "python"
  }
 },
 "nbformat": 4,
 "nbformat_minor": 5
}
