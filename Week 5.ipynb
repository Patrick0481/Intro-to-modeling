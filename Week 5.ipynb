{
 "cells": [
  {
   "cell_type": "markdown",
   "id": "a9ee255c",
   "metadata": {},
   "source": [
    "Introduction to modelling - Week 5"
   ]
  },
  {
   "cell_type": "code",
   "execution_count": null,
   "id": "aea507c6",
   "metadata": {},
   "outputs": [],
   "source": []
  }
 ],
 "metadata": {
  "language_info": {
   "name": "python"
  }
 },
 "nbformat": 4,
 "nbformat_minor": 5
}
